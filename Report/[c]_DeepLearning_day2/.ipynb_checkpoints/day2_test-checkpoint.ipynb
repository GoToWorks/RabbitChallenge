{
 "cells": [
  {
   "cell_type": "markdown",
   "metadata": {},
   "source": [
    "# 提出区分【c】深層学習_day2\n",
    "## Section1: 勾配消失問題\n",
    "#### 確認テスト\n",
    "・連鎖率の原理を使い、$dz/dx$を求めよ。z=t^2,t=x+y<br>\n",
    "$\\frac{dz}{dx}=\\frac{dz}{dt}\\frac{dt}{dx}=2t*1=2(x+y)$<br>\n",
    "・シグモイド関数を微分した時、入力値が0の時に最大値を取る。その値は？<br>\n",
    "0.25<br>\n",
    "・重みの初期値に０を設定すると、どのような問題が発生するか<br>\n",
    "重みを0で初期化すると正しい学習が行えない。全ての重みの値が均一に更新されるため多数の重みを持つ意味がなくなる<br>\n",
    "・バッチ正規化のメリット2つ<br>\n",
    "中間層の重みの更新が安定し、処理が早くなる<br>\n",
    "過学習を抑える<br>"
   ]
  },
  {
   "cell_type": "markdown",
   "metadata": {},
   "source": [
    "## Section2: 学習率最適化手法\n",
    "#### 確認テスト\n",
    "モメンタム・AdaGrad・RMSPropの特徴をそれぞれ簡潔に説明せよ。 <br>\n",
    "・モメンタムのメリット<br>\n",
    "局所的最適解にはならず、大域的最適解となる。<br>\n",
    "谷間についてから最も低い位置(最適値)にいくまでの時間が早い。<br>\n",
    "・AdaGradのメリット<br>\n",
    "勾配の緩やかな斜面に対して、最適値に近づける。<br>\n",
    "・RMSPropのメリット<br>\n",
    "局所的最適解にはならず、大域的最適解となる。<br>\n",
    "ハイパーパラメータの調整が必要な場合が少ない。<br>"
   ]
  },
  {
   "cell_type": "markdown",
   "metadata": {},
   "source": [
    "## Section3: 過学習\n",
    "#### 確認テスト\n",
    "下図について、L1正則化を表しているグラフはどちらか。<br>\n",
    "<img src=\"img/img1.png\" width=\"400\"><br>\n",
    "L1正則化は右図のLasso推定量。一つの重みの軸が0になるのが特徴。"
   ]
  },
  {
   "cell_type": "markdown",
   "metadata": {},
   "source": [
    "## Section4： 畳み込みニューラルネットワークの概念\n",
    "#### 確認テスト\n",
    "・サイズ6x6の入力画像を、サイズ2x2のフィルタで畳み込んだ時の出力画像のサイズを答えよ。なお、ストライドとパディングは1とする。<br>\n",
    "出力画像のサイズは7x7(パディングで8x8になり、2x2のフィルタをストライド1で畳み込むため)"
   ]
  }
 ],
 "metadata": {
  "kernelspec": {
   "display_name": "Python 3",
   "language": "python",
   "name": "python3"
  },
  "language_info": {
   "codemirror_mode": {
    "name": "ipython",
    "version": 3
   },
   "file_extension": ".py",
   "mimetype": "text/x-python",
   "name": "python",
   "nbconvert_exporter": "python",
   "pygments_lexer": "ipython3",
   "version": "3.8.3"
  }
 },
 "nbformat": 4,
 "nbformat_minor": 4
}

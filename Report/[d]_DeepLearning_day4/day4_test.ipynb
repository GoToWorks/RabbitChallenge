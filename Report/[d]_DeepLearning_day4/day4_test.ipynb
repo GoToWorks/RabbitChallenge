{
 "cells": [
  {
   "cell_type": "markdown",
   "metadata": {},
   "source": [
    "# 提出区分【d】深層学習_day4"
   ]
  },
  {
   "cell_type": "markdown",
   "metadata": {},
   "source": [
    "## Section1〜Section3,Section5〜Section6\n",
    "#### 確認テスト\n",
    "なし"
   ]
  },
  {
   "cell_type": "markdown",
   "metadata": {},
   "source": [
    "## Section4: 応用モデル\n",
    "#### 確認テスト\n",
    "(1)<br>\n",
    "<img src=\"img/img4.png\" width=\"500\"><br>\n",
    "(い)$H*W*C*D_k*D_k$<br>\n",
    "(う)$H*W*C*M$<br>\n",
    "(2)<br>\n",
    "<img src=\"img/img6.png\" width=\"500\"><br>\n",
    "(あ)$Dilated causal convolution$<br>\n",
    "(3)<br>\n",
    "$Dilated causal convolution$を用いた際の利点は単純な$Convolution layer$比べて(い)ことである<br>\n",
    "(い)パラメータ数に対する需要野が広い<br>"
   ]
  }
 ],
 "metadata": {
  "kernelspec": {
   "display_name": "Python 3",
   "language": "python",
   "name": "python3"
  },
  "language_info": {
   "codemirror_mode": {
    "name": "ipython",
    "version": 3
   },
   "file_extension": ".py",
   "mimetype": "text/x-python",
   "name": "python",
   "nbconvert_exporter": "python",
   "pygments_lexer": "ipython3",
   "version": "3.8.3"
  }
 },
 "nbformat": 4,
 "nbformat_minor": 4
}

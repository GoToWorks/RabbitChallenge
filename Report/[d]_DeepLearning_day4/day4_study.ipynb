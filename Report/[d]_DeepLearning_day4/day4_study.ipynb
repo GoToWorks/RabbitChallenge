{
 "cells": [
  {
   "cell_type": "markdown",
   "metadata": {},
   "source": [
    "# 提出区分【d】深層学習_day4\n",
    "#### 実装演習"
   ]
  },
  {
   "cell_type": "markdown",
   "metadata": {
    "colab_type": "text",
    "id": "c183rGQUp2aJ"
   },
   "source": [
    "# 演習 Transformerモデル"
   ]
  },
  {
   "cell_type": "markdown",
   "metadata": {
    "colab_type": "text",
    "id": "-dQ9b9Yjp2aL"
   },
   "source": [
    "TransformerはRNNやCNNを使用せず、Attentionのみを用いるSeq2Seqモデルです。\n",
    "\n",
    "並列計算が可能なためRNNに比べて計算が高速な上、Self-Attentionと呼ばれる機構を用いることにより、局所的な位置しか参照できないCNNと異なり、系列内の任意の位置の情報を参照することを可能にしています。\n",
    "\n",
    "その他にもいくつかの工夫が加えられており、翻訳に限らない自然言語処理のあらゆるタスクで圧倒的な性能を示すことが知られています。\n",
    "\n",
    "原論文：[Attention is All You Need](https://arxiv.org/abs/1706.03762)\n",
    "\n",
    "参考実装：https://github.com/jadore801120/attention-is-all-you-need-pytorch"
   ]
  },
  {
   "cell_type": "code",
   "execution_count": 45,
   "metadata": {
    "colab": {
     "base_uri": "https://localhost:8080/",
     "height": 2417
    },
    "colab_type": "code",
    "executionInfo": {
     "elapsed": 18231,
     "status": "ok",
     "timestamp": 1552708912584,
     "user": {
      "displayName": "鈴木航介",
      "photoUrl": "",
      "userId": "00468427838777565972"
     },
     "user_tz": -540
    },
    "id": "WwR-X5fqqPHC",
    "outputId": "3185b980-61c4-4b42-aeea-75d51cb1182c"
   },
   "outputs": [
    {
     "name": "stdout",
     "output_type": "stream",
     "text": [
      "--2022-01-09 23:28:56--  https://www.dropbox.com/s/9narw5x4uizmehh/utils.py\n",
      "Resolving www.dropbox.com (www.dropbox.com)... 162.125.80.18, 2620:100:6030:18::a27d:5012\n",
      "Connecting to www.dropbox.com (www.dropbox.com)|162.125.80.18|:443... connected.\n",
      "HTTP request sent, awaiting response... 301 Moved Permanently\n",
      "Location: /s/raw/9narw5x4uizmehh/utils.py [following]\n",
      "--2022-01-09 23:28:57--  https://www.dropbox.com/s/raw/9narw5x4uizmehh/utils.py\n",
      "Reusing existing connection to www.dropbox.com:443.\n",
      "HTTP request sent, awaiting response... 302 Found\n",
      "Location: https://uc24577b3ed1755a3745a3e326f7.dl.dropboxusercontent.com/cd/0/inline/BdfSnyufJ6kLN6uucv4-FGs3bmlS509hgh1KzY1E9jelGvCfre5iz3QM4A3RcFVjZivWCcHaF0FAdj8i9y-AQB47jCHNObl2aUXUZMtcY398_56XBjfBrc6yyig4x0AMyoHdRfAdbDvDuIT5o2xXK2de/file# [following]\n",
      "--2022-01-09 23:28:57--  https://uc24577b3ed1755a3745a3e326f7.dl.dropboxusercontent.com/cd/0/inline/BdfSnyufJ6kLN6uucv4-FGs3bmlS509hgh1KzY1E9jelGvCfre5iz3QM4A3RcFVjZivWCcHaF0FAdj8i9y-AQB47jCHNObl2aUXUZMtcY398_56XBjfBrc6yyig4x0AMyoHdRfAdbDvDuIT5o2xXK2de/file\n",
      "Resolving uc24577b3ed1755a3745a3e326f7.dl.dropboxusercontent.com (uc24577b3ed1755a3745a3e326f7.dl.dropboxusercontent.com)... 162.125.80.15, 2620:100:6030:15::a27d:500f\n",
      "Connecting to uc24577b3ed1755a3745a3e326f7.dl.dropboxusercontent.com (uc24577b3ed1755a3745a3e326f7.dl.dropboxusercontent.com)|162.125.80.15|:443... connected.\n",
      "HTTP request sent, awaiting response... 200 OK\n",
      "Length: 949 [text/plain]\n",
      "Saving to: ‘utils.py’\n",
      "\n",
      "utils.py            100%[===================>]     949  --.-KB/s    in 0s      \n",
      "\n",
      "2022-01-09 23:28:58 (57.6 MB/s) - ‘utils.py’ saved [949/949]\n",
      "\n",
      "--2022-01-09 23:28:58--  https://www.dropbox.com/s/o4kyc52a8we25wy/dev.en\n",
      "Resolving www.dropbox.com (www.dropbox.com)... 162.125.80.18, 2620:100:6030:18::a27d:5012\n",
      "Connecting to www.dropbox.com (www.dropbox.com)|162.125.80.18|:443... connected.\n",
      "HTTP request sent, awaiting response... 301 Moved Permanently\n",
      "Location: /s/raw/o4kyc52a8we25wy/dev.en [following]\n",
      "--2022-01-09 23:28:59--  https://www.dropbox.com/s/raw/o4kyc52a8we25wy/dev.en\n",
      "Reusing existing connection to www.dropbox.com:443.\n",
      "HTTP request sent, awaiting response... 302 Found\n",
      "Location: https://uc5a3e93a2af9851c8dcf9e249e3.dl.dropboxusercontent.com/cd/0/inline/BdcwXfcx3TL9Swe8p70gKd-L1D08K-xzwety1oZnAGOgNZwV3UXlPBKrWHBIbvJ8zYb98UjNMpdIrTufFsS21GVRlutS2RnREOqI0I4H7PqfLATWlm17Ix59lcDXeoTtMDiblhB2XEl5dHqsIm6qVVKW/file# [following]\n",
      "--2022-01-09 23:28:59--  https://uc5a3e93a2af9851c8dcf9e249e3.dl.dropboxusercontent.com/cd/0/inline/BdcwXfcx3TL9Swe8p70gKd-L1D08K-xzwety1oZnAGOgNZwV3UXlPBKrWHBIbvJ8zYb98UjNMpdIrTufFsS21GVRlutS2RnREOqI0I4H7PqfLATWlm17Ix59lcDXeoTtMDiblhB2XEl5dHqsIm6qVVKW/file\n",
      "Resolving uc5a3e93a2af9851c8dcf9e249e3.dl.dropboxusercontent.com (uc5a3e93a2af9851c8dcf9e249e3.dl.dropboxusercontent.com)... 162.125.80.15, 2620:100:6030:15::a27d:500f\n",
      "Connecting to uc5a3e93a2af9851c8dcf9e249e3.dl.dropboxusercontent.com (uc5a3e93a2af9851c8dcf9e249e3.dl.dropboxusercontent.com)|162.125.80.15|:443... connected.\n",
      "HTTP request sent, awaiting response... 200 OK\n",
      "Length: 17054 (17K) [text/plain]\n",
      "Saving to: ‘data/dev.en’\n",
      "\n",
      "dev.en              100%[===================>]  16.65K  --.-KB/s    in 0.002s  \n",
      "\n",
      "2022-01-09 23:29:00 (10.4 MB/s) - ‘data/dev.en’ saved [17054/17054]\n",
      "\n",
      "--2022-01-09 23:29:00--  https://www.dropbox.com/s/kdgskm5hzg6znuc/dev.ja\n",
      "Resolving www.dropbox.com (www.dropbox.com)... 162.125.80.18, 2620:100:6030:18::a27d:5012\n",
      "Connecting to www.dropbox.com (www.dropbox.com)|162.125.80.18|:443... connected.\n",
      "HTTP request sent, awaiting response... 301 Moved Permanently\n",
      "Location: /s/raw/kdgskm5hzg6znuc/dev.ja [following]\n",
      "--2022-01-09 23:29:00--  https://www.dropbox.com/s/raw/kdgskm5hzg6znuc/dev.ja\n",
      "Reusing existing connection to www.dropbox.com:443.\n",
      "HTTP request sent, awaiting response... 302 Found\n",
      "Location: https://uc8c22cf832961a47a3e437cffd0.dl.dropboxusercontent.com/cd/0/inline/BddcAz-v2jxG9iMzNdD9wlDSdTB0TRl7OvqPxupM-7_wcuKfVD1BL8_IGqzofXGrD1ch7dIUibbzIdhQoZlS48T4jHKF9tUnFS_TX4qF8S84-usIVDVTeYPWj7YbX6DRcPOgZYSw1KIx5ibbXazw90r-/file# [following]\n",
      "--2022-01-09 23:29:01--  https://uc8c22cf832961a47a3e437cffd0.dl.dropboxusercontent.com/cd/0/inline/BddcAz-v2jxG9iMzNdD9wlDSdTB0TRl7OvqPxupM-7_wcuKfVD1BL8_IGqzofXGrD1ch7dIUibbzIdhQoZlS48T4jHKF9tUnFS_TX4qF8S84-usIVDVTeYPWj7YbX6DRcPOgZYSw1KIx5ibbXazw90r-/file\n",
      "Resolving uc8c22cf832961a47a3e437cffd0.dl.dropboxusercontent.com (uc8c22cf832961a47a3e437cffd0.dl.dropboxusercontent.com)... 162.125.80.15, 162.125.80.15, 2620:100:6030:15::a27d:500f\n",
      "Connecting to uc8c22cf832961a47a3e437cffd0.dl.dropboxusercontent.com (uc8c22cf832961a47a3e437cffd0.dl.dropboxusercontent.com)|162.125.80.15|:443... connected.\n",
      "HTTP request sent, awaiting response... 200 OK\n",
      "Length: 27781 (27K) [text/plain]\n",
      "Saving to: ‘data/dev.ja’\n",
      "\n",
      "dev.ja              100%[===================>]  27.13K  --.-KB/s    in 0.07s   \n",
      "\n",
      "2022-01-09 23:29:02 (388 KB/s) - ‘data/dev.ja’ saved [27781/27781]\n",
      "\n",
      "--2022-01-09 23:29:02--  https://www.dropbox.com/s/gyyx4gohv9v65uh/test.en\n",
      "Resolving www.dropbox.com (www.dropbox.com)... 162.125.80.18, 2620:100:6030:18::a27d:5012\n",
      "Connecting to www.dropbox.com (www.dropbox.com)|162.125.80.18|:443... connected.\n",
      "HTTP request sent, awaiting response... 301 Moved Permanently\n",
      "Location: /s/raw/gyyx4gohv9v65uh/test.en [following]\n",
      "--2022-01-09 23:29:03--  https://www.dropbox.com/s/raw/gyyx4gohv9v65uh/test.en\n",
      "Reusing existing connection to www.dropbox.com:443.\n",
      "HTTP request sent, awaiting response... 302 Found\n",
      "Location: https://uccfd8f8fbb1f272fdde833be576.dl.dropboxusercontent.com/cd/0/inline/Bdf4FE2V13CyF2_zMCJiFSX8L1q04SmO0EnkYFHRwZI3OEx29CZTH__yIE-o6Tv7XNsCxYFQjC5dRC4Br9u75pIZ1fy38LJXnMPv2eO9jHvCNFVVJqWl-pDEfPYhX2fEDzEncVyg4pHj-7tH3qi3rpj1/file# [following]\n",
      "--2022-01-09 23:29:03--  https://uccfd8f8fbb1f272fdde833be576.dl.dropboxusercontent.com/cd/0/inline/Bdf4FE2V13CyF2_zMCJiFSX8L1q04SmO0EnkYFHRwZI3OEx29CZTH__yIE-o6Tv7XNsCxYFQjC5dRC4Br9u75pIZ1fy38LJXnMPv2eO9jHvCNFVVJqWl-pDEfPYhX2fEDzEncVyg4pHj-7tH3qi3rpj1/file\n",
      "Resolving uccfd8f8fbb1f272fdde833be576.dl.dropboxusercontent.com (uccfd8f8fbb1f272fdde833be576.dl.dropboxusercontent.com)... 162.125.80.15, 2620:100:6030:15::a27d:500f\n",
      "Connecting to uccfd8f8fbb1f272fdde833be576.dl.dropboxusercontent.com (uccfd8f8fbb1f272fdde833be576.dl.dropboxusercontent.com)|162.125.80.15|:443... connected.\n",
      "HTTP request sent, awaiting response... 200 OK\n",
      "Length: 17301 (17K) [text/plain]\n",
      "Saving to: ‘data/test.en’\n",
      "\n",
      "test.en             100%[===================>]  16.90K  --.-KB/s    in 0.002s  \n",
      "\n",
      "2022-01-09 23:29:04 (7.27 MB/s) - ‘data/test.en’ saved [17301/17301]\n",
      "\n",
      "--2022-01-09 23:29:04--  https://www.dropbox.com/s/hotxwbgoe2n013k/test.ja\n",
      "Resolving www.dropbox.com (www.dropbox.com)... 162.125.80.18, 2620:100:6030:18::a27d:5012\n",
      "Connecting to www.dropbox.com (www.dropbox.com)|162.125.80.18|:443... connected.\n",
      "HTTP request sent, awaiting response... 301 Moved Permanently\n",
      "Location: /s/raw/hotxwbgoe2n013k/test.ja [following]\n",
      "--2022-01-09 23:29:04--  https://www.dropbox.com/s/raw/hotxwbgoe2n013k/test.ja\n",
      "Reusing existing connection to www.dropbox.com:443.\n",
      "HTTP request sent, awaiting response... 302 Found\n",
      "Location: https://uc36cef65efc0a7325b469ebb762.dl.dropboxusercontent.com/cd/0/inline/BddWlkY9kcdeUHnsZTFls9zTZUl2ibLQ4jyrFIRVD10QRUBiITTbFI3AuDXiZNIPP6bhfMj6fNvVo0JISgKLE7UEXlUCh6T3EQot1mlr9ddahzsQeGeto9Qm7Gfzdvbq67-noKxekAAWGH6caKH2Q7Ls/file# [following]\n",
      "--2022-01-09 23:29:05--  https://uc36cef65efc0a7325b469ebb762.dl.dropboxusercontent.com/cd/0/inline/BddWlkY9kcdeUHnsZTFls9zTZUl2ibLQ4jyrFIRVD10QRUBiITTbFI3AuDXiZNIPP6bhfMj6fNvVo0JISgKLE7UEXlUCh6T3EQot1mlr9ddahzsQeGeto9Qm7Gfzdvbq67-noKxekAAWGH6caKH2Q7Ls/file\n",
      "Resolving uc36cef65efc0a7325b469ebb762.dl.dropboxusercontent.com (uc36cef65efc0a7325b469ebb762.dl.dropboxusercontent.com)... 162.125.80.15, 2620:100:6030:15::a27d:500f, 2620:100:6030:15::a27d:500f\n",
      "Connecting to uc36cef65efc0a7325b469ebb762.dl.dropboxusercontent.com (uc36cef65efc0a7325b469ebb762.dl.dropboxusercontent.com)|162.125.80.15|:443... connected.\n",
      "HTTP request sent, awaiting response... 200 OK\n",
      "Length: 27793 (27K) [text/plain]\n",
      "Saving to: ‘data/test.ja’\n",
      "\n",
      "test.ja             100%[===================>]  27.14K  --.-KB/s    in 0.05s   \n",
      "\n",
      "2022-01-09 23:29:06 (543 KB/s) - ‘data/test.ja’ saved [27793/27793]\n",
      "\n",
      "--2022-01-09 23:29:06--  https://www.dropbox.com/s/5lsftkmb20ay9e1/train.en\n",
      "Resolving www.dropbox.com (www.dropbox.com)... 162.125.80.18, 2620:100:6030:18::a27d:5012\n",
      "Connecting to www.dropbox.com (www.dropbox.com)|162.125.80.18|:443... connected.\n",
      "HTTP request sent, awaiting response... 301 Moved Permanently\n",
      "Location: /s/raw/5lsftkmb20ay9e1/train.en [following]\n",
      "--2022-01-09 23:29:06--  https://www.dropbox.com/s/raw/5lsftkmb20ay9e1/train.en\n",
      "Reusing existing connection to www.dropbox.com:443.\n",
      "HTTP request sent, awaiting response... 302 Found\n",
      "Location: https://uc0375eb55b409a73014ac69af45.dl.dropboxusercontent.com/cd/0/inline/Bdc2D1DA8UimKSWttMi57msrVvT7wWKkK196tR5JvqscDD7xGj3mdOQDYIBznvK5WArL6WTK-yzSuSI24TA99Jhkj9ylzYJbmgfG66ep0boaAFo6jdCthPmUgQI7Kp6_xSS1o9zrGVI9oUSjyvuJ_uDc/file# [following]\n",
      "--2022-01-09 23:29:07--  https://uc0375eb55b409a73014ac69af45.dl.dropboxusercontent.com/cd/0/inline/Bdc2D1DA8UimKSWttMi57msrVvT7wWKkK196tR5JvqscDD7xGj3mdOQDYIBznvK5WArL6WTK-yzSuSI24TA99Jhkj9ylzYJbmgfG66ep0boaAFo6jdCthPmUgQI7Kp6_xSS1o9zrGVI9oUSjyvuJ_uDc/file\n",
      "Resolving uc0375eb55b409a73014ac69af45.dl.dropboxusercontent.com (uc0375eb55b409a73014ac69af45.dl.dropboxusercontent.com)... 162.125.80.15, 2620:100:6030:15::a27d:500f, 2620:100:6030:15::a27d:500f\n",
      "Connecting to uc0375eb55b409a73014ac69af45.dl.dropboxusercontent.com (uc0375eb55b409a73014ac69af45.dl.dropboxusercontent.com)|162.125.80.15|:443... connected.\n",
      "HTTP request sent, awaiting response... 200 OK\n",
      "Length: 1701356 (1.6M) [text/plain]\n",
      "Saving to: ‘data/train.en’\n",
      "\n",
      "train.en            100%[===================>]   1.62M  1.86MB/s    in 0.9s    \n",
      "\n",
      "2022-01-09 23:29:09 (1.86 MB/s) - ‘data/train.en’ saved [1701356/1701356]\n",
      "\n",
      "--2022-01-09 23:29:09--  https://www.dropbox.com/s/ak53qirssci6f1j/train.ja\n",
      "Resolving www.dropbox.com (www.dropbox.com)... 162.125.80.18, 2620:100:6030:18::a27d:5012\n",
      "Connecting to www.dropbox.com (www.dropbox.com)|162.125.80.18|:443... connected.\n",
      "HTTP request sent, awaiting response... 301 Moved Permanently\n",
      "Location: /s/raw/ak53qirssci6f1j/train.ja [following]\n",
      "--2022-01-09 23:29:09--  https://www.dropbox.com/s/raw/ak53qirssci6f1j/train.ja\n",
      "Reusing existing connection to www.dropbox.com:443.\n",
      "HTTP request sent, awaiting response... 302 Found\n",
      "Location: https://uc4fc96e3afe63b4a6e4f006ca13.dl.dropboxusercontent.com/cd/0/inline/Bdd62B3ecu4n0j1V2Ga5l_ijZlalEbzrUE2J-xW49_4pYKEVw6RoBNd89BfLd0Aj0aG3DnJTDebXqspn0hM_7iCGrpYMWBm_m9i1mBe0h4_ctEzlSs9TDnfMA5yY5-nsET3S0lv137ngvzBiZ8n9jNJe/file# [following]\n",
      "--2022-01-09 23:29:10--  https://uc4fc96e3afe63b4a6e4f006ca13.dl.dropboxusercontent.com/cd/0/inline/Bdd62B3ecu4n0j1V2Ga5l_ijZlalEbzrUE2J-xW49_4pYKEVw6RoBNd89BfLd0Aj0aG3DnJTDebXqspn0hM_7iCGrpYMWBm_m9i1mBe0h4_ctEzlSs9TDnfMA5yY5-nsET3S0lv137ngvzBiZ8n9jNJe/file\n",
      "Resolving uc4fc96e3afe63b4a6e4f006ca13.dl.dropboxusercontent.com (uc4fc96e3afe63b4a6e4f006ca13.dl.dropboxusercontent.com)... 162.125.80.15, 162.125.80.15, 2620:100:6030:15::a27d:500f\n",
      "Connecting to uc4fc96e3afe63b4a6e4f006ca13.dl.dropboxusercontent.com (uc4fc96e3afe63b4a6e4f006ca13.dl.dropboxusercontent.com)|162.125.80.15|:443... connected.\n",
      "HTTP request sent, awaiting response... 200 OK\n",
      "Length: 2784447 (2.7M) [text/plain]\n",
      "Saving to: ‘data/train.ja’\n",
      "\n",
      "train.ja            100%[===================>]   2.66M  2.68MB/s    in 1.0s    \n",
      "\n",
      "2022-01-09 23:29:12 (2.68 MB/s) - ‘data/train.ja’ saved [2784447/2784447]\n",
      "\n"
     ]
    }
   ],
   "source": [
    "! wget https://www.dropbox.com/s/9narw5x4uizmehh/utils.py\n",
    "! mkdir images data\n",
    "\n",
    "# data取得\n",
    "! wget https://www.dropbox.com/s/o4kyc52a8we25wy/dev.en -P data/\n",
    "! wget https://www.dropbox.com/s/kdgskm5hzg6znuc/dev.ja -P data/\n",
    "! wget https://www.dropbox.com/s/gyyx4gohv9v65uh/test.en -P data/\n",
    "! wget https://www.dropbox.com/s/hotxwbgoe2n013k/test.ja -P data/\n",
    "! wget https://www.dropbox.com/s/5lsftkmb20ay9e1/train.en -P data/\n",
    "! wget https://www.dropbox.com/s/ak53qirssci6f1j/train.ja -P data/"
   ]
  },
  {
   "cell_type": "code",
   "execution_count": 3,
   "metadata": {
    "colab": {},
    "colab_type": "code",
    "id": "zmG3Ihbpp2aN"
   },
   "outputs": [],
   "source": [
    "import time\n",
    "import numpy as np\n",
    "from sklearn.utils import shuffle\n",
    "from sklearn.model_selection import train_test_split\n",
    "import matplotlib\n",
    "import matplotlib.pyplot as plt\n",
    "import seaborn as sns\n",
    "%matplotlib inline\n",
    "\n",
    "from nltk import bleu_score\n",
    "\n",
    "import torch\n",
    "import torch.nn as nn\n",
    "import torch.optim as optim\n",
    "import torch.nn.functional as F\n",
    "\n",
    "from utils import Vocab\n",
    "\n",
    "device = torch.device(\"cuda\" if torch.cuda.is_available() else \"cpu\")\n",
    "\n",
    "torch.manual_seed(1)\n",
    "random_state = 42"
   ]
  },
  {
   "cell_type": "code",
   "execution_count": 4,
   "metadata": {
    "colab": {
     "base_uri": "https://localhost:8080/",
     "height": 34
    },
    "colab_type": "code",
    "executionInfo": {
     "elapsed": 519,
     "status": "ok",
     "timestamp": 1552708917909,
     "user": {
      "displayName": "鈴木航介",
      "photoUrl": "",
      "userId": "00468427838777565972"
     },
     "user_tz": -540
    },
    "id": "e50saJX2p2aQ",
    "outputId": "83e81183-a992-4c09-c583-14a1405d8aca"
   },
   "outputs": [
    {
     "name": "stdout",
     "output_type": "stream",
     "text": [
      "1.10.1+cu102\n"
     ]
    }
   ],
   "source": [
    "print(torch.__version__)"
   ]
  },
  {
   "cell_type": "code",
   "execution_count": 5,
   "metadata": {
    "colab": {},
    "colab_type": "code",
    "id": "YxRYfAn4p2aW"
   },
   "outputs": [],
   "source": [
    "PAD = 0\n",
    "UNK = 1\n",
    "BOS = 2\n",
    "EOS = 3\n",
    "\n",
    "PAD_TOKEN = '<PAD>'\n",
    "UNK_TOKEN = '<UNK>'\n",
    "BOS_TOKEN = '<S>'\n",
    "EOS_TOKEN = '</S>'"
   ]
  },
  {
   "cell_type": "markdown",
   "metadata": {
    "colab_type": "text",
    "id": "JLfYkF9Cp2aZ"
   },
   "source": [
    "## 1.データセット"
   ]
  },
  {
   "cell_type": "code",
   "execution_count": 6,
   "metadata": {
    "colab": {},
    "colab_type": "code",
    "id": "8yesDStlp2aa"
   },
   "outputs": [],
   "source": [
    "def load_data(file_path):\n",
    "    \"\"\"\n",
    "    テキストファイルからデータを読み込む\n",
    "    :param file_path: str, テキストファイルのパス\n",
    "    :return data: list, 文章（単語のリスト）のリスト\n",
    "    \"\"\"\n",
    "    data = []\n",
    "    for line in open(file_path, encoding='utf-8'):\n",
    "        words = line.strip().split()  # スペースで単語を分割\n",
    "        data.append(words)\n",
    "    return data"
   ]
  },
  {
   "cell_type": "code",
   "execution_count": 7,
   "metadata": {
    "colab": {},
    "colab_type": "code",
    "id": "AN7_LZUdp2ad"
   },
   "outputs": [],
   "source": [
    "train_X = load_data('./data/train.en')\n",
    "train_Y = load_data('./data/train.ja')"
   ]
  },
  {
   "cell_type": "code",
   "execution_count": 8,
   "metadata": {
    "colab": {},
    "colab_type": "code",
    "id": "TkT-ADq-p2al"
   },
   "outputs": [],
   "source": [
    "# 訓練データと検証データに分割\n",
    "train_X, valid_X, train_Y, valid_Y = train_test_split(train_X, train_Y, test_size=0.2, random_state=random_state)"
   ]
  },
  {
   "cell_type": "code",
   "execution_count": 9,
   "metadata": {
    "colab": {
     "base_uri": "https://localhost:8080/",
     "height": 71
    },
    "colab_type": "code",
    "executionInfo": {
     "elapsed": 438,
     "status": "ok",
     "timestamp": 1552708923840,
     "user": {
      "displayName": "鈴木航介",
      "photoUrl": "",
      "userId": "00468427838777565972"
     },
     "user_tz": -540
    },
    "id": "Rlncckt2p2as",
    "outputId": "2feba21b-b92a-4ec1-c5f1-625330c80355"
   },
   "outputs": [
    {
     "name": "stdout",
     "output_type": "stream",
     "text": [
      "train_X: [['where', 'shall', 'we', 'eat', 'tonight', '?'], ['i', 'made', 'a', 'big', 'mistake', 'in', 'choosing', 'my', 'wife', '.'], ['i', \"'ll\", 'have', 'to', 'think', 'about', 'it', '.'], ['it', 'is', 'called', 'a', 'lily', '.'], ['could', 'you', 'lend', 'me', 'some', 'money', 'until', 'this', 'weekend', '?']]\n",
      "train_Y: [['今夜', 'は', 'どこ', 'で', '食事', 'を', 'し', 'よ', 'う', 'か', '。'], ['僕', 'は', '妻', 'を', '選', 'ぶ', 'の', 'に', '大変', 'な', '間違い', 'を', 'し', 'た', '。'], ['考え', 'と', 'く', 'よ', '。'], ['ｌｉｌｙ', 'と', '呼', 'ば', 'れ', 'て', 'い', 'ま', 'す', '。'], ['今週末', 'まで', 'いくら', 'か', '金', 'を', '貸', 'し', 'て', 'くれ', 'ま', 'せ', 'ん', 'か', '。']]\n"
     ]
    }
   ],
   "source": [
    "# データセットの中身を確認\n",
    "print('train_X:', train_X[:5])\n",
    "print('train_Y:', train_Y[:5])"
   ]
  },
  {
   "cell_type": "code",
   "execution_count": 10,
   "metadata": {
    "colab": {},
    "colab_type": "code",
    "id": "0r_RMRdPp2a1"
   },
   "outputs": [],
   "source": [
    "MIN_COUNT = 2  # 語彙に含める単語の最低出現回数\n",
    "\n",
    "word2id = {\n",
    "    PAD_TOKEN: PAD,\n",
    "    BOS_TOKEN: BOS,\n",
    "    EOS_TOKEN: EOS,\n",
    "    UNK_TOKEN: UNK,\n",
    "    }\n",
    "\n",
    "vocab_X = Vocab(word2id=word2id)\n",
    "vocab_Y = Vocab(word2id=word2id)\n",
    "vocab_X.build_vocab(train_X, min_count=MIN_COUNT)\n",
    "vocab_Y.build_vocab(train_Y, min_count=MIN_COUNT)\n",
    "\n",
    "vocab_size_X = len(vocab_X.id2word)\n",
    "vocab_size_Y = len(vocab_Y.id2word)"
   ]
  },
  {
   "cell_type": "code",
   "execution_count": 11,
   "metadata": {
    "colab": {},
    "colab_type": "code",
    "id": "wMP4omn-p2a5"
   },
   "outputs": [],
   "source": [
    "def sentence_to_ids(vocab, sentence):\n",
    "    \"\"\"\n",
    "    単語のリストをインデックスのリストに変換する\n",
    "    :param vocab: Vocabのインスタンス\n",
    "    :param sentence: list of str\n",
    "    :return indices: list of int\n",
    "    \"\"\"\n",
    "    ids = [vocab.word2id.get(word, UNK) for word in sentence]\n",
    "    ids = [BOS] + ids + [EOS]  # EOSを末尾に加える\n",
    "    return ids"
   ]
  },
  {
   "cell_type": "code",
   "execution_count": 12,
   "metadata": {
    "colab": {},
    "colab_type": "code",
    "id": "6qCMnmqFp2a7"
   },
   "outputs": [],
   "source": [
    "train_X = [sentence_to_ids(vocab_X, sentence) for sentence in train_X]\n",
    "train_Y = [sentence_to_ids(vocab_Y, sentence) for sentence in train_Y]\n",
    "valid_X = [sentence_to_ids(vocab_X, sentence) for sentence in valid_X]\n",
    "valid_Y = [sentence_to_ids(vocab_Y, sentence) for sentence in valid_Y]"
   ]
  },
  {
   "cell_type": "code",
   "execution_count": 13,
   "metadata": {
    "colab": {},
    "colab_type": "code",
    "id": "umBYKCRFp2a-"
   },
   "outputs": [],
   "source": [
    "class DataLoader(object):\n",
    "    def __init__(self, src_insts, tgt_insts, batch_size, shuffle=True):\n",
    "        \"\"\"\n",
    "        :param src_insts: list, 入力言語の文章（単語IDのリスト）のリスト\n",
    "        :param tgt_insts: list, 出力言語の文章（単語IDのリスト）のリスト\n",
    "        :param batch_size: int, バッチサイズ\n",
    "        :param shuffle: bool, サンプルの順番をシャッフルするか否か\n",
    "        \"\"\"\n",
    "        self.data = list(zip(src_insts, tgt_insts))\n",
    "\n",
    "        self.batch_size = batch_size\n",
    "        self.shuffle = shuffle\n",
    "        self.start_index = 0\n",
    "        \n",
    "        self.reset()\n",
    "    \n",
    "    def reset(self):\n",
    "        if self.shuffle:\n",
    "            self.data = shuffle(self.data, random_state=random_state)\n",
    "        self.start_index = 0\n",
    "    \n",
    "    def __iter__(self):\n",
    "        return self\n",
    "    \n",
    "    def __next__(self):\n",
    "\n",
    "        def preprocess_seqs(seqs):\n",
    "            # パディング\n",
    "            max_length = max([len(s) for s in seqs])\n",
    "            data = [s + [PAD] * (max_length - len(s)) for s in seqs]\n",
    "            # 単語の位置を表現するベクトルを作成\n",
    "            positions = [[pos+1 if w != PAD else 0 for pos, w in enumerate(seq)] for seq in data]\n",
    "            # テンソルに変換\n",
    "            data_tensor = torch.tensor(data, dtype=torch.long, device=device)\n",
    "            position_tensor = torch.tensor(positions, dtype=torch.long, device=device)\n",
    "            return data_tensor, position_tensor            \n",
    "\n",
    "        # ポインタが最後まで到達したら初期化する\n",
    "        if self.start_index >= len(self.data):\n",
    "            self.reset()\n",
    "            raise StopIteration()\n",
    "\n",
    "        # バッチを取得して前処理\n",
    "        src_seqs, tgt_seqs = zip(*self.data[self.start_index:self.start_index+self.batch_size])\n",
    "        src_data, src_pos = preprocess_seqs(src_seqs)\n",
    "        tgt_data, tgt_pos = preprocess_seqs(tgt_seqs)\n",
    "\n",
    "        # ポインタを更新する\n",
    "        self.start_index += self.batch_size\n",
    "\n",
    "        return (src_data, src_pos), (tgt_data, tgt_pos)"
   ]
  },
  {
   "cell_type": "markdown",
   "metadata": {
    "colab_type": "text",
    "id": "f-rcK5zFp2bB"
   },
   "source": [
    "## 2.各モジュールの定義\n",
    "TransformerのモデルもEncoder-Decoderモデルの構造になっています。\n",
    "EncoderとDecoderは\n",
    "- Positional Encoding: 入出力の単語のEmbedding時に単語の位置情報を埋め込む\n",
    "- Scaled Dot-Product Attention: 内積でAttentionを計算し、スケーリングを行う\n",
    "- Multi-head Attention: Scaled Dot-Product Attentionを複数のヘッドで並列化する\n",
    "- Position-Wise Feed Forward Network: 単語列の位置ごとに独立して処理を行う\n",
    "など、いくつかのモジュールから構成されているため、それぞれのモジュールを個別に定義していきます。"
   ]
  },
  {
   "cell_type": "markdown",
   "metadata": {
    "colab_type": "text",
    "id": "IDcDkr4ip2bF"
   },
   "source": [
    "### ① Position Encoding\n",
    "Transformerは系列の処理にRNNを使用しないので、そのままでは単語列の語順を考慮することができません。\n",
    "\n",
    "そのため、入力系列の埋め込み行列に単語の位置情報を埋め込むPosition Encodingを加算します。\n",
    "\n",
    "Positional Encodingの行列$PE$の各成分は次式で表されます。\n",
    "$PE_{(pos, 2i)} = \\sin(pos/10000^{2i/d_{model}})$\n",
    "\n",
    "$PE_{(pos, 2i+1)} = \\cos(pos/10000^{2i/d_{model}})$\n",
    "ここで$pos$は単語の位置を、$i$は成分の次元を表しています。\n",
    "\n",
    "Positional Encodingの各成分は、波長が$2\\pi$から$10000*2\\pi$に幾何学的に伸びる正弦波に対応します。"
   ]
  },
  {
   "cell_type": "code",
   "execution_count": 14,
   "metadata": {
    "colab": {},
    "colab_type": "code",
    "id": "9T8VxiHfp2bG"
   },
   "outputs": [],
   "source": [
    "def position_encoding_init(n_position, d_pos_vec):\n",
    "    \"\"\"\n",
    "    Positional Encodingのための行列の初期化を行う\n",
    "    :param n_position: int, 系列長\n",
    "    :param d_pos_vec: int, 隠れ層の次元数\n",
    "    :return torch.tensor, size=(n_position, d_pos_vec)\n",
    "    \"\"\"\n",
    "    # PADがある単語の位置はpos=0にしておき、position_encも0にする\n",
    "    position_enc = np.array([\n",
    "        [pos / np.power(10000, 2 * (j // 2) / d_pos_vec) for j in range(d_pos_vec)]\n",
    "        if pos != 0 else np.zeros(d_pos_vec) for pos in range(n_position)])\n",
    "    position_enc[1:, 0::2] = np.sin(position_enc[1:, 0::2])  # dim 2i\n",
    "    position_enc[1:, 1::2] = np.cos(position_enc[1:, 1::2])  # dim 2i+1\n",
    "    return torch.tensor(position_enc, dtype=torch.float)"
   ]
  },
  {
   "cell_type": "markdown",
   "metadata": {
    "colab_type": "text",
    "id": "TaqSqkAup2bJ"
   },
   "source": [
    "ちなみに、Position Encodingを可視化すると以下のようになります。"
   ]
  },
  {
   "cell_type": "code",
   "execution_count": 15,
   "metadata": {
    "colab": {
     "base_uri": "https://localhost:8080/",
     "height": 490
    },
    "colab_type": "code",
    "executionInfo": {
     "elapsed": 5712,
     "status": "ok",
     "timestamp": 1552708937918,
     "user": {
      "displayName": "鈴木航介",
      "photoUrl": "",
      "userId": "00468427838777565972"
     },
     "user_tz": -540
    },
    "id": "cUu6Kxlop2bK",
    "outputId": "c9e1a6df-915c-4321-9bf9-534ac9b3192b"
   },
   "outputs": [
    {
     "data": {
      "image/png": "[encoded data removed]",
      "text/plain": [
       "<Figure size 1152x576 with 2 Axes>"
      ]
     },
     "metadata": {
      "needs_background": "light"
     },
     "output_type": "display_data"
    }
   ],
   "source": [
    "pe = position_encoding_init(50, 256).numpy()\n",
    "plt.figure(figsize=(16,8))\n",
    "sns.heatmap(pe, cmap='Blues')\n",
    "plt.show()"
   ]
  },
  {
   "cell_type": "markdown",
   "metadata": {
    "colab_type": "text",
    "id": "d6iudy2Vp2bV"
   },
   "source": [
    "縦軸が単語の位置を、横軸が成分の次元を表しており、濃淡が加算される値です。\n",
    "\n",
    "ここでは最大系列長を50、隠れ層の次元数を256としました。"
   ]
  },
  {
   "cell_type": "markdown",
   "metadata": {
    "colab_type": "text",
    "id": "0sYQJIaHp2bY"
   },
   "source": [
    "### ② Multihead Attention\n",
    "ソース・ターゲット注意機構と自己注意機構\n",
    "Attentionは一般に、queryベクトルとkeyベクトルの類似度を求めて、その正規化した重みをvalueベクトルに適用して値を取り出す処理を行います。\n",
    "\n",
    "一般的な翻訳モデルで用いられるAttentionはソース・ターゲット注意機構と呼ばれ、この場合queryはDecoderの隠れ状態(Target)、keyはEncoderの隠れ状態(Source)、valueもEncoderの隠れ状態(Source)で表現されるのが一般的です。モデル全体の図では、右側のDecoderブロックの中央にあるAttentionがこれに相当します。\n",
    "\n",
    "Transformerでは、このソース・ターゲット注意機構に加えて、query,key,valueを同じ系列内で定義する自己注意機構を用います。これにより、ある単語位置の出力を求める際にあらゆる位置を参照できるため、局所的な位置しか参照できない畳み込み層よりも良い性能を発揮できると言われています。モデル全体の図では、左側のEncoderブロックと右側のDecoderブロックの下部にあるAttentionがこれに当たります。"
   ]
  },
  {
   "cell_type": "markdown",
   "metadata": {
    "colab_type": "text",
    "id": "LaR4TfW2p2bZ"
   },
   "source": [
    "Transformerでは、Scaled Dot-Product Attentionと呼ばれるAttentionを、複数のヘッドで並列に扱うMulti-Head Attentionによって、Source-Target-AttentionとSelf-Attentionを実現します。\n",
    "\n",
    "#### Scaled Dot-Product Attention\n",
    "Attentionには、注意の重みを隠れ層 1 つのフィードフォワードネットワークで求めるAdditive Attentionと、注意の重みを内積で求めるDot-Product Attentionが存在します。  一般に、Dot-Product Attentionのほうがパラメータが少なく高速であり、Transformerでもこちらを使います。\n",
    "\n",
    "\n",
    "Tranformerではさらなる工夫として、query($Q$)とkey($K$)の内積をスケーリング因子 $\\sqrt{d_k}$ で除算します。\n",
    "\n",
    "$Attention(Q, K, V) = softmax(\\frac{QK^T}{\\sqrt{d_k}})V$ \n",
    "\n",
    "\n",
    "これは、$d_k$（keyベクトルの次元数）が大きい場合に内積が大きくなりすぎて逆伝播のsoftmaxの勾配が極端に小さくなることを防ぐ役割を果たします。"
   ]
  },
  {
   "cell_type": "code",
   "execution_count": 16,
   "metadata": {
    "colab": {},
    "colab_type": "code",
    "id": "N7FawizWp2ba"
   },
   "outputs": [],
   "source": [
    "class ScaledDotProductAttention(nn.Module):\n",
    "    \n",
    "    def __init__(self, d_model, attn_dropout=0.1):\n",
    "        \"\"\"\n",
    "        :param d_model: int, 隠れ層の次元数\n",
    "        :param attn_dropout: float, ドロップアウト率\n",
    "        \"\"\"\n",
    "        super(ScaledDotProductAttention, self).__init__()\n",
    "        self.temper = np.power(d_model, 0.5)  # スケーリング因子\n",
    "        self.dropout = nn.Dropout(attn_dropout)\n",
    "        self.softmax = nn.Softmax(dim=-1)\n",
    "\n",
    "    def forward(self, q, k, v, attn_mask):\n",
    "        \"\"\"\n",
    "        :param q: torch.tensor, queryベクトル, \n",
    "            size=(n_head*batch_size, len_q, d_model/n_head)\n",
    "        :param k: torch.tensor, key, \n",
    "            size=(n_head*batch_size, len_k, d_model/n_head)\n",
    "        :param v: torch.tensor, valueベクトル, \n",
    "            size=(n_head*batch_size, len_v, d_model/n_head)\n",
    "        :param attn_mask: torch.tensor, Attentionに適用するマスク, \n",
    "            size=(n_head*batch_size, len_q, len_k)\n",
    "        :return output: 出力ベクトル, \n",
    "            size=(n_head*batch_size, len_q, d_model/n_head)\n",
    "        :return attn: Attention\n",
    "            size=(n_head*batch_size, len_q, len_k)\n",
    "        \"\"\"\n",
    "        # QとKの内積でAttentionの重みを求め、スケーリングする\n",
    "        attn = torch.bmm(q, k.transpose(1, 2)) / self.temper  # (n_head*batch_size, len_q, len_k)\n",
    "        # Attentionをかけたくない部分がある場合は、その部分を負の無限大に飛ばしてSoftmaxの値が0になるようにする\n",
    "        attn.data.masked_fill_(attn_mask, -float('inf'))\n",
    "        \n",
    "        attn = self.softmax(attn)\n",
    "        attn = self.dropout(attn)\n",
    "        output = torch.bmm(attn, v)\n",
    "\n",
    "        return output, attn"
   ]
  },
  {
   "cell_type": "markdown",
   "metadata": {
    "colab_type": "text",
    "id": "Iw1FIuWip2bd"
   },
   "source": [
    "#### Multi-Head Attention\n",
    "TransformerではAttentionを複数のヘッドで並列に行うMulti-Head Attentionを採用しています。\n",
    "\n",
    "複数のヘッドでAttentionを行うことにより、各ヘッドが異なる部分空間を処理でき、精度が向上するとされています。"
   ]
  },
  {
   "cell_type": "code",
   "execution_count": 17,
   "metadata": {
    "colab": {},
    "colab_type": "code",
    "id": "tYZJzsfxp2bf"
   },
   "outputs": [],
   "source": [
    "class MultiHeadAttention(nn.Module):\n",
    "    def __init__(self, n_head, d_model, d_k, d_v, dropout=0.1):\n",
    "        \"\"\"\n",
    "        :param n_head: int, ヘッド数\n",
    "        :param d_model: int, 隠れ層の次元数\n",
    "        :param d_k: int, keyベクトルの次元数\n",
    "        :param d_v: int, valueベクトルの次元数\n",
    "        :param dropout: float, ドロップアウト率\n",
    "        \"\"\"\n",
    "        super(MultiHeadAttention, self).__init__()\n",
    "\n",
    "        self.n_head = n_head\n",
    "        self.d_k = d_k\n",
    "        self.d_v = d_v\n",
    "\n",
    "        # 各ヘッドごとに異なる重みで線形変換を行うための重み\n",
    "        # nn.Parameterを使うことで、Moduleのパラメータとして登録できる. TFでは更新が必要な変数はtf.Variableでラップするのでわかりやすい\n",
    "        self.w_qs = nn.Parameter(torch.empty([n_head, d_model, d_k], dtype=torch.float))\n",
    "        self.w_ks = nn.Parameter(torch.empty([n_head, d_model, d_k], dtype=torch.float))\n",
    "        self.w_vs = nn.Parameter(torch.empty([n_head, d_model, d_v], dtype=torch.float))\n",
    "        # nn.init.xavier_normal_で重みの値を初期化\n",
    "        nn.init.xavier_normal_(self.w_qs)\n",
    "        nn.init.xavier_normal_(self.w_ks)\n",
    "        nn.init.xavier_normal_(self.w_vs)\n",
    "\n",
    "        self.attention = ScaledDotProductAttention(d_model)\n",
    "        self.layer_norm = nn.LayerNorm(d_model) # 各層においてバイアスを除く活性化関数への入力を平均０、分散１に正則化\n",
    "        self.proj = nn.Linear(n_head*d_v, d_model)  # 複数ヘッド分のAttentionの結果を元のサイズに写像するための線形層\n",
    "        # nn.init.xavier_normal_で重みの値を初期化\n",
    "        nn.init.xavier_normal_(self.proj.weight)\n",
    "        \n",
    "        self.dropout = nn.Dropout(dropout)\n",
    "\n",
    "\n",
    "    def forward(self, q, k, v, attn_mask=None):\n",
    "        \"\"\"\n",
    "        :param q: torch.tensor, queryベクトル, \n",
    "            size=(batch_size, len_q, d_model)\n",
    "        :param k: torch.tensor, key, \n",
    "            size=(batch_size, len_k, d_model)\n",
    "        :param v: torch.tensor, valueベクトル, \n",
    "            size=(batch_size, len_v, d_model)\n",
    "        :param attn_mask: torch.tensor, Attentionに適用するマスク, \n",
    "            size=(batch_size, len_q, len_k)\n",
    "        :return outputs: 出力ベクトル, \n",
    "            size=(batch_size, len_q, d_model)\n",
    "        :return attns: Attention\n",
    "            size=(n_head*batch_size, len_q, len_k)\n",
    "            \n",
    "        \"\"\"\n",
    "        d_k, d_v = self.d_k, self.d_v\n",
    "        n_head = self.n_head\n",
    "\n",
    "        # residual connectionのための入力 出力に入力をそのまま加算する\n",
    "        residual = q\n",
    "\n",
    "        batch_size, len_q, d_model = q.size()\n",
    "        batch_size, len_k, d_model = k.size()\n",
    "        batch_size, len_v, d_model = v.size()\n",
    "\n",
    "        # 複数ヘッド化\n",
    "        # torch.repeat または .repeatで指定したdimに沿って同じテンソルを作成\n",
    "        q_s = q.repeat(n_head, 1, 1) # (n_head*batch_size, len_q, d_model)\n",
    "        k_s = k.repeat(n_head, 1, 1) # (n_head*batch_size, len_k, d_model)\n",
    "        v_s = v.repeat(n_head, 1, 1) # (n_head*batch_size, len_v, d_model)\n",
    "        # ヘッドごとに並列計算させるために、n_headをdim=0に、batch_sizeをdim=1に寄せる\n",
    "        q_s = q_s.view(n_head, -1, d_model) # (n_head, batch_size*len_q, d_model)\n",
    "        k_s = k_s.view(n_head, -1, d_model) # (n_head, batch_size*len_k, d_model)\n",
    "        v_s = v_s.view(n_head, -1, d_model) # (n_head, batch_size*len_v, d_model)\n",
    "\n",
    "        # 各ヘッドで線形変換を並列計算(p16左側`Linear`)\n",
    "        q_s = torch.bmm(q_s, self.w_qs)  # (n_head, batch_size*len_q, d_k)\n",
    "        k_s = torch.bmm(k_s, self.w_ks)  # (n_head, batch_size*len_k, d_k)\n",
    "        v_s = torch.bmm(v_s, self.w_vs)  # (n_head, batch_size*len_v, d_v)\n",
    "        # Attentionは各バッチ各ヘッドごとに計算させるためにbatch_sizeをdim=0に寄せる\n",
    "        q_s = q_s.view(-1, len_q, d_k)   # (n_head*batch_size, len_q, d_k)\n",
    "        k_s = k_s.view(-1, len_k, d_k)   # (n_head*batch_size, len_k, d_k)\n",
    "        v_s = v_s.view(-1, len_v, d_v)   # (n_head*batch_size, len_v, d_v)\n",
    "\n",
    "        # Attentionを計算(p16.左側`Scaled Dot-Product Attention * h`)\n",
    "        outputs, attns = self.attention(q_s, k_s, v_s, attn_mask=attn_mask.repeat(n_head, 1, 1))\n",
    "\n",
    "        # 各ヘッドの結果を連結(p16左側`Concat`)\n",
    "        # torch.splitでbatch_sizeごとのn_head個のテンソルに分割\n",
    "        outputs = torch.split(outputs, batch_size, dim=0)  # (batch_size, len_q, d_model) * n_head\n",
    "        # dim=-1で連結\n",
    "        outputs = torch.cat(outputs, dim=-1)  # (batch_size, len_q, d_model*n_head)\n",
    "\n",
    "        # residual connectionのために元の大きさに写像(p16左側`Linear`)\n",
    "        outputs = self.proj(outputs)  # (batch_size, len_q, d_model)\n",
    "        outputs = self.dropout(outputs)\n",
    "        outputs = self.layer_norm(outputs + residual)\n",
    "\n",
    "        return outputs, attns"
   ]
  },
  {
   "cell_type": "markdown",
   "metadata": {
    "colab_type": "text",
    "id": "SR37dOECp2bn"
   },
   "source": [
    "### ③ Position-Wise Feed Forward Network\n",
    "単語列の位置ごとに独立して処理する2層のネットワークであるPosition-Wise Feed Forward Networkを定義します。"
   ]
  },
  {
   "cell_type": "code",
   "execution_count": 18,
   "metadata": {
    "colab": {},
    "colab_type": "code",
    "id": "8Eor7Q0Zp2bo"
   },
   "outputs": [],
   "source": [
    "class PositionwiseFeedForward(nn.Module):\n",
    "    \"\"\"\n",
    "    :param d_hid: int, 隠れ層1層目の次元数\n",
    "    :param d_inner_hid: int, 隠れ層2層目の次元数\n",
    "    :param dropout: float, ドロップアウト率\n",
    "    \"\"\"\n",
    "    def __init__(self, d_hid, d_inner_hid, dropout=0.1):\n",
    "        super(PositionwiseFeedForward, self).__init__()\n",
    "        # window size 1のconv層を定義することでPosition wiseな全結合層を実現する.\n",
    "        self.w_1 = nn.Conv1d(d_hid, d_inner_hid, 1)\n",
    "        self.w_2 = nn.Conv1d(d_inner_hid, d_hid, 1)\n",
    "        self.layer_norm = nn.LayerNorm(d_hid)\n",
    "        self.dropout = nn.Dropout(dropout)\n",
    "        self.relu = nn.ReLU()\n",
    "\n",
    "    def forward(self, x):\n",
    "        \"\"\"\n",
    "        :param x: torch.tensor,\n",
    "            size=(batch_size, max_length, d_hid)\n",
    "        :return: torch.tensor,\n",
    "            size=(batch_size, max_length, d_hid) \n",
    "        \"\"\"\n",
    "        residual = x\n",
    "        output = self.relu(self.w_1(x.transpose(1, 2)))\n",
    "        output = self.w_2(output).transpose(2, 1)\n",
    "        output = self.dropout(output)\n",
    "        return self.layer_norm(output + residual)"
   ]
  },
  {
   "cell_type": "markdown",
   "metadata": {
    "colab_type": "text",
    "id": "xzXB_HIVp2bu"
   },
   "source": [
    "### ④ Masking\n",
    "TransformerではAttentionに対して２つのマスクを定義します。\n",
    "\n",
    "一つはkey側の系列のPADトークンに対してAttentionを行わないようにするマスクです。"
   ]
  },
  {
   "cell_type": "code",
   "execution_count": 19,
   "metadata": {
    "colab": {},
    "colab_type": "code",
    "id": "amN70mbwp2bv"
   },
   "outputs": [],
   "source": [
    "def get_attn_padding_mask(seq_q, seq_k):\n",
    "    \"\"\"\n",
    "    keyのPADに対するattentionを0にするためのマスクを作成する\n",
    "    :param seq_q: tensor, queryの系列, size=(batch_size, len_q)\n",
    "    :param seq_k: tensor, keyの系列, size=(batch_size, len_k)\n",
    "    :return pad_attn_mask: tensor, size=(batch_size, len_q, len_k)\n",
    "    \"\"\"\n",
    "    batch_size, len_q = seq_q.size()\n",
    "    batch_size, len_k = seq_k.size()\n",
    "    pad_attn_mask = seq_k.data.eq(PAD).unsqueeze(1)   # (N, 1, len_k) PAD以外のidを全て0にする\n",
    "    pad_attn_mask = pad_attn_mask.expand(batch_size, len_q, len_k) # (N, len_q, len_k)\n",
    "    return pad_attn_mask"
   ]
  },
  {
   "cell_type": "code",
   "execution_count": 20,
   "metadata": {
    "colab": {
     "base_uri": "https://localhost:8080/",
     "height": 153
    },
    "colab_type": "code",
    "executionInfo": {
     "elapsed": 1796,
     "status": "ok",
     "timestamp": 1552708937934,
     "user": {
      "displayName": "鈴木航介",
      "photoUrl": "",
      "userId": "00468427838777565972"
     },
     "user_tz": -540
    },
    "id": "6HtLq5nop2bz",
    "outputId": "93262a25-d402-4367-ad3c-701429a01aeb"
   },
   "outputs": [
    {
     "name": "stdout",
     "output_type": "stream",
     "text": [
      "query:\n",
      " tensor([[1, 2, 3]])\n",
      "key:\n",
      " tensor([[4, 5, 6, 7, 0]])\n",
      "mask:\n",
      " tensor([[[False, False, False, False,  True],\n",
      "         [False, False, False, False,  True],\n",
      "         [False, False, False, False,  True]]])\n"
     ]
    }
   ],
   "source": [
    "_seq_q = torch.tensor([[1, 2, 3]])\n",
    "_seq_k = torch.tensor([[4, 5, 6, 7, PAD]])\n",
    "_mask = get_attn_padding_mask(_seq_q, _seq_k)  # 行がquery、列がkeyに対応し、key側がPAD(=0)の時刻だけ1で他が0の行列ができる\n",
    "print('query:\\n', _seq_q)\n",
    "print('key:\\n', _seq_k)\n",
    "print('mask:\\n', _mask)"
   ]
  },
  {
   "cell_type": "markdown",
   "metadata": {
    "colab_type": "text",
    "id": "V5mPZVJ7p2b2"
   },
   "source": [
    "もう一つはDecoder側でSelf Attentionを行う際に、各時刻で未来の情報に対するAttentionを行わないようにするマスクです。"
   ]
  },
  {
   "cell_type": "code",
   "execution_count": 21,
   "metadata": {
    "colab": {},
    "colab_type": "code",
    "id": "IW8zvfLcp2b3"
   },
   "outputs": [],
   "source": [
    "def get_attn_subsequent_mask(seq):\n",
    "    \"\"\"\n",
    "    未来の情報に対するattentionを0にするためのマスクを作成する\n",
    "    :param seq: tensor, size=(batch_size, length)\n",
    "    :return subsequent_mask: tensor, size=(batch_size, length, length)\n",
    "    \"\"\"\n",
    "    attn_shape = (seq.size(1), seq.size(1))\n",
    "    # 上三角行列(diagonal=1: 対角線より上が1で下が0)\n",
    "    subsequent_mask = torch.triu(torch.ones(attn_shape, dtype=torch.uint8, device=device), diagonal=1)\n",
    "    subsequent_mask = subsequent_mask.repeat(seq.size(0), 1, 1)\n",
    "    return subsequent_mask"
   ]
  },
  {
   "cell_type": "code",
   "execution_count": 22,
   "metadata": {
    "colab": {
     "base_uri": "https://localhost:8080/",
     "height": 136
    },
    "colab_type": "code",
    "executionInfo": {
     "elapsed": 6631,
     "status": "ok",
     "timestamp": 1552708943560,
     "user": {
      "displayName": "鈴木航介",
      "photoUrl": "",
      "userId": "00468427838777565972"
     },
     "user_tz": -540
    },
    "id": "579z_7Krp2b6",
    "outputId": "d6d7ec6b-2113-4815-8ade-454b77965edf"
   },
   "outputs": [
    {
     "name": "stdout",
     "output_type": "stream",
     "text": [
      "seq:\n",
      " tensor([[1, 2, 3, 4]])\n",
      "mask:\n",
      " tensor([[[0, 1, 1, 1],\n",
      "         [0, 0, 1, 1],\n",
      "         [0, 0, 0, 1],\n",
      "         [0, 0, 0, 0]]], dtype=torch.uint8)\n"
     ]
    }
   ],
   "source": [
    "_seq = torch.tensor([[1,2,3,4]])\n",
    "_mask = get_attn_subsequent_mask(_seq)  # 行がquery、列がkeyに対応し、queryより未来のkeyの値が1で他は0の行列ができいる\n",
    "print('seq:\\n', _seq)\n",
    "print('mask:\\n', _mask)"
   ]
  },
  {
   "cell_type": "markdown",
   "metadata": {
    "colab_type": "text",
    "id": "RJmM096Bp2b_"
   },
   "source": [
    "## 3. モデルの定義\n",
    "\n",
    "### Encoder\n",
    "これまで定義してきたサブレイヤーを統合して、Encoderを定義します。\n",
    "\n",
    "EncoderではSelf AttentionとPosition-Wise Feed Forward Networkからなるブロックを複数層繰り返すので、ブロックのクラスEncoderLayerを定義した後にEncoderを定義します。"
   ]
  },
  {
   "cell_type": "code",
   "execution_count": 23,
   "metadata": {
    "colab": {},
    "colab_type": "code",
    "id": "LtpNJZXxp2cA"
   },
   "outputs": [],
   "source": [
    "class EncoderLayer(nn.Module):\n",
    "    \"\"\"Encoderのブロックのクラス\"\"\"\n",
    "    def __init__(self, d_model, d_inner_hid, n_head, d_k, d_v, dropout=0.1):\n",
    "        \"\"\"\n",
    "        :param d_model: int, 隠れ層の次元数\n",
    "        :param d_inner_hid: int, Position Wise Feed Forward Networkの隠れ層2層目の次元数\n",
    "        :param n_head: int,　ヘッド数\n",
    "        :param d_k: int, keyベクトルの次元数\n",
    "        :param d_v: int, valueベクトルの次元数\n",
    "        :param dropout: float, ドロップアウト率\n",
    "        \"\"\"\n",
    "        super(EncoderLayer, self).__init__()\n",
    "        # Encoder内のSelf-Attention\n",
    "        self.slf_attn = MultiHeadAttention(\n",
    "            n_head, d_model, d_k, d_v, dropout=dropout)\n",
    "        # Postionwise FFN\n",
    "        self.pos_ffn = PositionwiseFeedForward(d_model, d_inner_hid, dropout=dropout)\n",
    "\n",
    "    def forward(self, enc_input, slf_attn_mask=None):\n",
    "        \"\"\"\n",
    "        :param enc_input: tensor, Encoderの入力, \n",
    "            size=(batch_size, max_length, d_model)\n",
    "        :param slf_attn_mask: tensor, Self Attentionの行列にかけるマスク, \n",
    "            size=(batch_size, len_q, len_k)\n",
    "        :return enc_output: tensor, Encoderの出力, \n",
    "            size=(batch_size, max_length, d_model)\n",
    "        :return enc_slf_attn: tensor, EncoderのSelf Attentionの行列, \n",
    "            size=(n_head*batch_size, len_q, len_k)\n",
    "        \"\"\"\n",
    "        # Self-Attentionのquery, key, valueにはすべてEncoderの入力（enc_input）が入る\n",
    "        enc_output, enc_slf_attn = self.slf_attn(\n",
    "            enc_input, enc_input, enc_input, attn_mask=slf_attn_mask)\n",
    "        enc_output = self.pos_ffn(enc_output)\n",
    "        return enc_output, enc_slf_attn"
   ]
  },
  {
   "cell_type": "code",
   "execution_count": 24,
   "metadata": {
    "colab": {},
    "colab_type": "code",
    "id": "MHrEiFeEp2cF"
   },
   "outputs": [],
   "source": [
    "class Encoder(nn.Module):\n",
    "    \"\"\"EncoderLayerブロックからなるEncoderのクラス\"\"\"\n",
    "    def __init__(\n",
    "            self, n_src_vocab, max_length, n_layers=6, n_head=8, d_k=64, d_v=64,\n",
    "            d_word_vec=512, d_model=512, d_inner_hid=1024, dropout=0.1):\n",
    "        \"\"\"\n",
    "        :param n_src_vocab: int, 入力言語の語彙数\n",
    "        :param max_length: int, 最大系列長\n",
    "        :param n_layers: int, レイヤー数\n",
    "        :param n_head: int,　ヘッド数\n",
    "        :param d_k: int, keyベクトルの次元数\n",
    "        :param d_v: int, valueベクトルの次元数\n",
    "        :param d_word_vec: int, 単語の埋め込みの次元数\n",
    "        :param d_model: int, 隠れ層の次元数\n",
    "        :param d_inner_hid: int, Position Wise Feed Forward Networkの隠れ層2層目の次元数\n",
    "        :param dropout: float, ドロップアウト率        \n",
    "        \"\"\"\n",
    "        super(Encoder, self).__init__()\n",
    "\n",
    "        n_position = max_length + 1\n",
    "        self.max_length = max_length\n",
    "        self.d_model = d_model\n",
    "\n",
    "        # Positional Encodingを用いたEmbedding\n",
    "        self.position_enc = nn.Embedding(n_position, d_word_vec, padding_idx=PAD)\n",
    "        self.position_enc.weight.data = position_encoding_init(n_position, d_word_vec)\n",
    "\n",
    "        # 一般的なEmbedding\n",
    "        self.src_word_emb = nn.Embedding(n_src_vocab, d_word_vec, padding_idx=PAD)\n",
    "\n",
    "        # EncoderLayerをn_layers個積み重ねる\n",
    "        self.layer_stack = nn.ModuleList([\n",
    "            EncoderLayer(d_model, d_inner_hid, n_head, d_k, d_v, dropout=dropout)\n",
    "            for _ in range(n_layers)])\n",
    "\n",
    "    def forward(self, src_seq, src_pos):\n",
    "        \"\"\"\n",
    "        :param src_seq: tensor, 入力系列, \n",
    "            size=(batch_size, max_length)\n",
    "        :param src_pos: tensor, 入力系列の各単語の位置情報,\n",
    "            size=(batch_size, max_length)\n",
    "        :return enc_output: tensor, Encoderの最終出力, \n",
    "            size=(batch_size, max_length, d_model)\n",
    "        :return enc_slf_attns: list, EncoderのSelf Attentionの行列のリスト\n",
    "        \"\"\"\n",
    "        # 一般的な単語のEmbeddingを行う\n",
    "        enc_input = self.src_word_emb(src_seq)\n",
    "        # Positional EncodingのEmbeddingを加算する\n",
    "        enc_input += self.position_enc(src_pos)\n",
    "\n",
    "        enc_slf_attns = []\n",
    "        enc_output = enc_input\n",
    "        # key(=enc_input)のPADに対応する部分のみ1のマスクを作成\n",
    "        enc_slf_attn_mask = get_attn_padding_mask(src_seq, src_seq)\n",
    "\n",
    "        # n_layers個のEncoderLayerに入力を通す\n",
    "        for enc_layer in self.layer_stack:\n",
    "            enc_output, enc_slf_attn = enc_layer(\n",
    "                enc_output, slf_attn_mask=enc_slf_attn_mask)\n",
    "            enc_slf_attns += [enc_slf_attn]\n",
    "\n",
    "        return enc_output, enc_slf_attns"
   ]
  },
  {
   "cell_type": "markdown",
   "metadata": {
    "colab_type": "text",
    "id": "K4uxRtsWp2cI"
   },
   "source": [
    "### Decoder\n",
    "\n",
    "Deocoderも同様にSelf Attention, Source-Target Attention, Position-Wise Feed Forward Networkからなるブロックを複数層繰り返ので、ブロックのクラスDecoderLayerを定義した後にDecoderを定義します。"
   ]
  },
  {
   "cell_type": "code",
   "execution_count": 25,
   "metadata": {
    "colab": {},
    "colab_type": "code",
    "id": "2WFWRsXYp2cJ"
   },
   "outputs": [],
   "source": [
    "class DecoderLayer(nn.Module):\n",
    "    \"\"\"Decoderのブロックのクラス\"\"\"\n",
    "    def __init__(self, d_model, d_inner_hid, n_head, d_k, d_v, dropout=0.1):\n",
    "        \"\"\"\n",
    "        :param d_model: int, 隠れ層の次元数\n",
    "        :param d_inner_hid: int, Position Wise Feed Forward Networkの隠れ層2層目の次元数\n",
    "        :param n_head: int,　ヘッド数\n",
    "        :param d_k: int, keyベクトルの次元数\n",
    "        :param d_v: int, valueベクトルの次元数\n",
    "        :param dropout: float, ドロップアウト率\n",
    "        \"\"\"\n",
    "        super(DecoderLayer, self).__init__()\n",
    "        # Decoder内のSelf-Attention\n",
    "        self.slf_attn = MultiHeadAttention(n_head, d_model, d_k, d_v, dropout=dropout)\n",
    "        # Encoder-Decoder間のSource-Target Attention\n",
    "        self.enc_attn = MultiHeadAttention(n_head, d_model, d_k, d_v, dropout=dropout)\n",
    "        # Positionwise FFN\n",
    "        self.pos_ffn = PositionwiseFeedForward(d_model, d_inner_hid, dropout=dropout)\n",
    "\n",
    "    def forward(self, dec_input, enc_output, slf_attn_mask=None, dec_enc_attn_mask=None):\n",
    "        \"\"\"\n",
    "        :param dec_input: tensor, Decoderの入力, \n",
    "            size=(batch_size, max_length, d_model)\n",
    "        :param enc_output: tensor, Encoderの出力, \n",
    "            size=(batch_size, max_length, d_model)\n",
    "        :param slf_attn_mask: tensor, Self Attentionの行列にかけるマスク, \n",
    "            size=(batch_size, len_q, len_k)\n",
    "        :param dec_enc_attn_mask: tensor, Soutce-Target Attentionの行列にかけるマスク, \n",
    "            size=(batch_size, len_q, len_k)\n",
    "        :return dec_output: tensor, Decoderの出力, \n",
    "            size=(batch_size, max_length, d_model)\n",
    "        :return dec_slf_attn: tensor, DecoderのSelf Attentionの行列, \n",
    "            size=(n_head*batch_size, len_q, len_k)\n",
    "        :return dec_enc_attn: tensor, DecoderのSoutce-Target Attentionの行列, \n",
    "            size=(n_head*batch_size, len_q, len_k)\n",
    "        \"\"\"\n",
    "        # Self-Attentionのquery, key, valueにはすべてDecoderの入力（dec_input）が入る\n",
    "        dec_output, dec_slf_attn = self.slf_attn(\n",
    "            dec_input, dec_input, dec_input, attn_mask=slf_attn_mask)\n",
    "        # Source-Target-AttentionのqueryにはDecoderの出力(dec_output), key, valueにはEncoderの出力（enc_output）が入る\n",
    "        dec_output, dec_enc_attn = self.enc_attn(\n",
    "            dec_output, enc_output, enc_output, attn_mask=dec_enc_attn_mask)\n",
    "        dec_output = self.pos_ffn(dec_output)\n",
    "\n",
    "        return dec_output, dec_slf_attn, dec_enc_attn"
   ]
  },
  {
   "cell_type": "code",
   "execution_count": 26,
   "metadata": {
    "colab": {},
    "colab_type": "code",
    "id": "cnBteVrjp2cL"
   },
   "outputs": [],
   "source": [
    "class Decoder(nn.Module):\n",
    "    \"\"\"DecoderLayerブロックからなるDecoderのクラス\"\"\"\n",
    "    def __init__(\n",
    "            self, n_tgt_vocab, max_length, n_layers=6, n_head=8, d_k=64, d_v=64,\n",
    "            d_word_vec=512, d_model=512, d_inner_hid=1024, dropout=0.1):\n",
    "        \"\"\"\n",
    "        :param n_tgt_vocab: int, 出力言語の語彙数\n",
    "        :param max_length: int, 最大系列長\n",
    "        :param n_layers: int, レイヤー数\n",
    "        :param n_head: int,　ヘッド数\n",
    "        :param d_k: int, keyベクトルの次元数\n",
    "        :param d_v: int, valueベクトルの次元数\n",
    "        :param d_word_vec: int, 単語の埋め込みの次元数\n",
    "        :param d_model: int, 隠れ層の次元数\n",
    "        :param d_inner_hid: int, Position Wise Feed Forward Networkの隠れ層2層目の次元数\n",
    "        :param dropout: float, ドロップアウト率        \n",
    "        \"\"\"\n",
    "        super(Decoder, self).__init__()\n",
    "        n_position = max_length + 1\n",
    "        self.max_length = max_length\n",
    "        self.d_model = d_model\n",
    "\n",
    "        # Positional Encodingを用いたEmbedding\n",
    "        self.position_enc = nn.Embedding(\n",
    "            n_position, d_word_vec, padding_idx=PAD)\n",
    "        self.position_enc.weight.data = position_encoding_init(n_position, d_word_vec)\n",
    "\n",
    "        # 一般的なEmbedding\n",
    "        self.tgt_word_emb = nn.Embedding(\n",
    "            n_tgt_vocab, d_word_vec, padding_idx=PAD)\n",
    "        self.dropout = nn.Dropout(dropout)\n",
    "\n",
    "        # DecoderLayerをn_layers個積み重ねる\n",
    "        self.layer_stack = nn.ModuleList([\n",
    "            DecoderLayer(d_model, d_inner_hid, n_head, d_k, d_v, dropout=dropout)\n",
    "            for _ in range(n_layers)])\n",
    "\n",
    "    def forward(self, tgt_seq, tgt_pos, src_seq, enc_output):\n",
    "        \"\"\"\n",
    "        :param tgt_seq: tensor, 出力系列, \n",
    "            size=(batch_size, max_length)\n",
    "        :param tgt_pos: tensor, 出力系列の各単語の位置情報,\n",
    "            size=(batch_size, max_length)\n",
    "        :param src_seq: tensor, 入力系列, \n",
    "            size=(batch_size, n_src_vocab)\n",
    "        :param enc_output: tensor, Encoderの出力, \n",
    "            size=(batch_size, max_length, d_model)\n",
    "        :return dec_output: tensor, Decoderの最終出力, \n",
    "            size=(batch_size, max_length, d_model)\n",
    "        :return dec_slf_attns: list, DecoderのSelf Attentionの行列のリスト \n",
    "        :return dec_slf_attns: list, DecoderのSelf Attentionの行列のリスト\n",
    "        \"\"\"\n",
    "        # 一般的な単語のEmbeddingを行う\n",
    "        dec_input = self.tgt_word_emb(tgt_seq)\n",
    "        # Positional EncodingのEmbeddingを加算する\n",
    "        dec_input += self.position_enc(tgt_pos)\n",
    "\n",
    "        # Self-Attention用のマスクを作成\n",
    "        # key(=dec_input)のPADに対応する部分が1のマスクと、queryから見たkeyの未来の情報に対応する部分が1のマスクのORをとる\n",
    "        dec_slf_attn_pad_mask = get_attn_padding_mask(tgt_seq, tgt_seq)  # (N, max_length, max_length)\n",
    "        dec_slf_attn_sub_mask = get_attn_subsequent_mask(tgt_seq)  # (N, max_length, max_length)\n",
    "        dec_slf_attn_mask = torch.gt(dec_slf_attn_pad_mask + dec_slf_attn_sub_mask, 0)  # ORをとる\n",
    "\n",
    "        # key(=dec_input)のPADに対応する部分のみ1のマスクを作成\n",
    "        dec_enc_attn_pad_mask = get_attn_padding_mask(tgt_seq, src_seq)  # (N, max_length, max_length)\n",
    "\n",
    "        dec_slf_attns, dec_enc_attns = [], []\n",
    "\n",
    "        dec_output = dec_input\n",
    "        # n_layers個のDecoderLayerに入力を通す\n",
    "        for dec_layer in self.layer_stack:\n",
    "            dec_output, dec_slf_attn, dec_enc_attn = dec_layer(\n",
    "                dec_output, enc_output,\n",
    "                slf_attn_mask=dec_slf_attn_mask,\n",
    "                dec_enc_attn_mask=dec_enc_attn_pad_mask)\n",
    "\n",
    "            dec_slf_attns += [dec_slf_attn]\n",
    "            dec_enc_attns += [dec_enc_attn]\n",
    "\n",
    "        return dec_output, dec_slf_attns, dec_enc_attns"
   ]
  },
  {
   "cell_type": "code",
   "execution_count": 27,
   "metadata": {
    "colab": {},
    "colab_type": "code",
    "id": "uGZTXI2xp2cN"
   },
   "outputs": [],
   "source": [
    "class Transformer(nn.Module):\n",
    "    \"\"\"Transformerのモデル全体のクラス\"\"\"\n",
    "    def __init__(\n",
    "            self, n_src_vocab, n_tgt_vocab, max_length, n_layers=6, n_head=8,\n",
    "            d_word_vec=512, d_model=512, d_inner_hid=1024, d_k=64, d_v=64,\n",
    "            dropout=0.1, proj_share_weight=True):\n",
    "        \"\"\"\n",
    "        :param n_src_vocab: int, 入力言語の語彙数\n",
    "        :param n_tgt_vocab: int, 出力言語の語彙数\n",
    "        :param max_length: int, 最大系列長\n",
    "        :param n_layers: int, レイヤー数\n",
    "        :param n_head: int,　ヘッド数\n",
    "        :param d_k: int, keyベクトルの次元数\n",
    "        :param d_v: int, valueベクトルの次元数\n",
    "        :param d_word_vec: int, 単語の埋め込みの次元数\n",
    "        :param d_model: int, 隠れ層の次元数\n",
    "        :param d_inner_hid: int, Position Wise Feed Forward Networkの隠れ層2層目の次元数\n",
    "        :param dropout: float, ドロップアウト率        \n",
    "        :param proj_share_weight: bool, 出力言語の単語のEmbeddingと出力の写像で重みを共有する        \n",
    "        \"\"\"\n",
    "        super(Transformer, self).__init__()\n",
    "        self.encoder = Encoder(\n",
    "            n_src_vocab, max_length, n_layers=n_layers, n_head=n_head,\n",
    "            d_word_vec=d_word_vec, d_model=d_model,\n",
    "            d_inner_hid=d_inner_hid, dropout=dropout)\n",
    "        self.decoder = Decoder(\n",
    "            n_tgt_vocab, max_length, n_layers=n_layers, n_head=n_head,\n",
    "            d_word_vec=d_word_vec, d_model=d_model,\n",
    "            d_inner_hid=d_inner_hid, dropout=dropout)\n",
    "        self.tgt_word_proj = nn.Linear(d_model, n_tgt_vocab, bias=False)\n",
    "        nn.init.xavier_normal_(self.tgt_word_proj.weight)\n",
    "        self.dropout = nn.Dropout(dropout)\n",
    "\n",
    "        assert d_model == d_word_vec  # 各モジュールの出力のサイズは揃える\n",
    "\n",
    "        if proj_share_weight:\n",
    "            # 出力言語の単語のEmbeddingと出力の写像で重みを共有する\n",
    "            assert d_model == d_word_vec\n",
    "            self.tgt_word_proj.weight = self.decoder.tgt_word_emb.weight\n",
    "\n",
    "    def get_trainable_parameters(self):\n",
    "        # Positional Encoding以外のパラメータを更新する\n",
    "        enc_freezed_param_ids = set(map(id, self.encoder.position_enc.parameters()))\n",
    "        dec_freezed_param_ids = set(map(id, self.decoder.position_enc.parameters()))\n",
    "        freezed_param_ids = enc_freezed_param_ids | dec_freezed_param_ids\n",
    "        return (p for p in self.parameters() if id(p) not in freezed_param_ids)\n",
    "\n",
    "    def forward(self, src, tgt):\n",
    "        src_seq, src_pos = src\n",
    "        tgt_seq, tgt_pos = tgt\n",
    "\n",
    "        src_seq = src_seq[:, 1:]\n",
    "        src_pos = src_pos[:, 1:]\n",
    "        tgt_seq = tgt_seq[:, :-1]\n",
    "        tgt_pos = tgt_pos[:, :-1]\n",
    "\n",
    "        enc_output, *_ = self.encoder(src_seq, src_pos)\n",
    "        dec_output, *_ = self.decoder(tgt_seq, tgt_pos, src_seq, enc_output)\n",
    "        seq_logit = self.tgt_word_proj(dec_output)\n",
    "\n",
    "        return seq_logit"
   ]
  },
  {
   "cell_type": "markdown",
   "metadata": {
    "colab_type": "text",
    "id": "5iO0SDdJp2cQ"
   },
   "source": [
    "## 4. 学習"
   ]
  },
  {
   "cell_type": "code",
   "execution_count": 28,
   "metadata": {
    "colab": {},
    "colab_type": "code",
    "id": "qRsUUhMup2cR"
   },
   "outputs": [],
   "source": [
    "def compute_loss(batch_X, batch_Y, model, criterion, optimizer=None, is_train=True):\n",
    "    # バッチの損失を計算\n",
    "    model.train(is_train)\n",
    "    \n",
    "    pred_Y = model(batch_X, batch_Y)\n",
    "    gold = batch_Y[0][:, 1:].contiguous()\n",
    "#     gold = batch_Y[0].contiguous()\n",
    "    loss = criterion(pred_Y.view(-1, pred_Y.size(2)), gold.view(-1))\n",
    "\n",
    "    if is_train:  # 訓練時はパラメータを更新\n",
    "        optimizer.zero_grad()\n",
    "        loss.backward()\n",
    "        optimizer.step()\n",
    "\n",
    "    gold = gold.data.cpu().numpy().tolist()\n",
    "    pred = pred_Y.max(dim=-1)[1].data.cpu().numpy().tolist()\n",
    "\n",
    "    return loss.item(), gold, pred"
   ]
  },
  {
   "cell_type": "code",
   "execution_count": 29,
   "metadata": {
    "colab": {},
    "colab_type": "code",
    "id": "gVeXwSp3p2cW"
   },
   "outputs": [],
   "source": [
    "MAX_LENGTH = 20\n",
    "batch_size = 64\n",
    "num_epochs = 15\n",
    "lr = 0.001\n",
    "ckpt_path = 'transformer.pth'\n",
    "max_length = MAX_LENGTH + 2"
   ]
  },
  {
   "cell_type": "code",
   "execution_count": 30,
   "metadata": {
    "colab": {},
    "colab_type": "code",
    "id": "B5UNWBmSp2cY"
   },
   "outputs": [],
   "source": [
    "model_args = {\n",
    "    'n_src_vocab': vocab_size_X,\n",
    "    'n_tgt_vocab': vocab_size_Y,\n",
    "    'max_length': max_length,\n",
    "    'proj_share_weight': True,\n",
    "    'd_k': 32,\n",
    "    'd_v': 32,\n",
    "    'd_model': 128,\n",
    "    'd_word_vec': 128,\n",
    "    'd_inner_hid': 256,\n",
    "    'n_layers': 3,\n",
    "    'n_head': 6,\n",
    "    'dropout': 0.1,\n",
    "}"
   ]
  },
  {
   "cell_type": "code",
   "execution_count": 31,
   "metadata": {
    "colab": {
     "base_uri": "https://localhost:8080/",
     "height": 51
    },
    "colab_type": "code",
    "executionInfo": {
     "elapsed": 2194,
     "status": "ok",
     "timestamp": 1552708944177,
     "user": {
      "displayName": "鈴木航介",
      "photoUrl": "",
      "userId": "00468427838777565972"
     },
     "user_tz": -540
    },
    "id": "4grdni3dp2ca",
    "outputId": "8cca71be-38d4-49bd-fa8e-3d5593ba4ee2"
   },
   "outputs": [
    {
     "name": "stderr",
     "output_type": "stream",
     "text": [
      "/opt/anaconda3/lib/python3.8/site-packages/torch/nn/_reduction.py:42: UserWarning: size_average and reduce args will be deprecated, please use reduction='sum' instead.\n",
      "  warnings.warn(warning.format(ret))\n"
     ]
    }
   ],
   "source": [
    "# DataLoaderやモデルを定義\n",
    "train_dataloader = DataLoader(\n",
    "    train_X, train_Y, batch_size\n",
    "    )\n",
    "valid_dataloader = DataLoader(\n",
    "    valid_X, valid_Y, batch_size, \n",
    "    shuffle=False\n",
    "    )\n",
    "\n",
    "model = Transformer(**model_args).to(device)\n",
    "\n",
    "optimizer = optim.Adam(model.get_trainable_parameters(), lr=lr)\n",
    "\n",
    "criterion = nn.CrossEntropyLoss(ignore_index=PAD, size_average=False).to(device)"
   ]
  },
  {
   "cell_type": "code",
   "execution_count": 32,
   "metadata": {
    "colab": {},
    "colab_type": "code",
    "id": "SnHO46bip2cd"
   },
   "outputs": [],
   "source": [
    "def calc_bleu(refs, hyps):\n",
    "    \"\"\"\n",
    "    BLEUスコアを計算する関数\n",
    "    :param refs: list, 参照訳。単語のリストのリスト (例： [['I', 'have', 'a', 'pen'], ...])\n",
    "    :param hyps: list, モデルの生成した訳。単語のリストのリスト (例： [['I', 'have', 'a', 'pen'], ...])\n",
    "    :return: float, BLEUスコア(0~100)\n",
    "    \"\"\"\n",
    "    refs = [[ref[:ref.index(EOS)]] for ref in refs]\n",
    "    hyps = [hyp[:hyp.index(EOS)] if EOS in hyp else hyp for hyp in hyps]\n",
    "    return 100 * bleu_score.corpus_bleu(refs, hyps)"
   ]
  },
  {
   "cell_type": "code",
   "execution_count": 33,
   "metadata": {
    "colab": {
     "base_uri": "https://localhost:8080/",
     "height": 527
    },
    "colab_type": "code",
    "executionInfo": {
     "elapsed": 744555,
     "status": "ok",
     "timestamp": 1552709688260,
     "user": {
      "displayName": "鈴木航介",
      "photoUrl": "",
      "userId": "00468427838777565972"
     },
     "user_tz": -540
    },
    "id": "v5jKt9aop2cf",
    "outputId": "47da2f4f-43c0-489a-c136-df4fda776242"
   },
   "outputs": [
    {
     "name": "stdout",
     "output_type": "stream",
     "text": [
      "Epoch 1 [1.9min]: train_loss: 77.18  train_bleu: 4.79  valid_loss: 41.29  valid_bleu: 11.35\n",
      "--------------------------------------------------------------------------------\n",
      "Epoch 2 [1.8min]: train_loss: 39.15  train_bleu: 12.41  valid_loss: 32.06  valid_bleu: 17.87\n",
      "--------------------------------------------------------------------------------\n",
      "Epoch 3 [1.9min]: train_loss: 31.80  train_bleu: 18.21  valid_loss: 28.05  valid_bleu: 22.31\n",
      "--------------------------------------------------------------------------------\n",
      "Epoch 4 [1.8min]: train_loss: 28.15  train_bleu: 21.90  valid_loss: 25.59  valid_bleu: 25.31\n",
      "--------------------------------------------------------------------------------\n",
      "Epoch 5 [1.7min]: train_loss: 25.70  train_bleu: 24.66  valid_loss: 24.13  valid_bleu: 27.44\n",
      "--------------------------------------------------------------------------------\n",
      "Epoch 6 [1.7min]: train_loss: 23.87  train_bleu: 26.92  valid_loss: 22.99  valid_bleu: 28.89\n",
      "--------------------------------------------------------------------------------\n",
      "Epoch 7 [1.7min]: train_loss: 22.46  train_bleu: 28.66  valid_loss: 22.01  valid_bleu: 30.20\n",
      "--------------------------------------------------------------------------------\n",
      "Epoch 8 [1.7min]: train_loss: 21.31  train_bleu: 30.13  valid_loss: 21.56  valid_bleu: 30.97\n",
      "--------------------------------------------------------------------------------\n",
      "Epoch 9 [1.8min]: train_loss: 20.28  train_bleu: 31.66  valid_loss: 20.89  valid_bleu: 32.05\n",
      "--------------------------------------------------------------------------------\n",
      "Epoch 10 [1.7min]: train_loss: 19.37  train_bleu: 33.00  valid_loss: 20.45  valid_bleu: 32.99\n",
      "--------------------------------------------------------------------------------\n",
      "Epoch 11 [2.0min]: train_loss: 18.58  train_bleu: 34.07  valid_loss: 20.08  valid_bleu: 33.26\n",
      "--------------------------------------------------------------------------------\n",
      "Epoch 12 [1.8min]: train_loss: 17.84  train_bleu: 35.30  valid_loss: 19.83  valid_bleu: 33.96\n",
      "--------------------------------------------------------------------------------\n",
      "Epoch 13 [1.8min]: train_loss: 17.20  train_bleu: 36.28  valid_loss: 19.38  valid_bleu: 34.93\n",
      "--------------------------------------------------------------------------------\n",
      "Epoch 14 [2.0min]: train_loss: 16.66  train_bleu: 37.18  valid_loss: 19.29  valid_bleu: 35.09\n",
      "--------------------------------------------------------------------------------\n",
      "Epoch 15 [1.9min]: train_loss: 16.13  train_bleu: 37.85  valid_loss: 19.16  valid_bleu: 35.58\n",
      "--------------------------------------------------------------------------------\n"
     ]
    }
   ],
   "source": [
    "# 訓練\n",
    "best_valid_bleu = 0.\n",
    "\n",
    "for epoch in range(1, num_epochs+1):\n",
    "    start = time.time()\n",
    "    train_loss = 0.\n",
    "    train_refs = []\n",
    "    train_hyps = []\n",
    "    valid_loss = 0.\n",
    "    valid_refs = []\n",
    "    valid_hyps = []\n",
    "    # train\n",
    "    for batch in train_dataloader:\n",
    "        batch_X, batch_Y = batch\n",
    "        loss, gold, pred = compute_loss(\n",
    "            batch_X, batch_Y, model, criterion, optimizer, is_train=True\n",
    "            )\n",
    "        train_loss += loss\n",
    "        train_refs += gold\n",
    "        train_hyps += pred\n",
    "    # valid\n",
    "    for batch in valid_dataloader:\n",
    "        batch_X, batch_Y = batch\n",
    "        loss, gold, pred = compute_loss(\n",
    "            batch_X, batch_Y, model, criterion, is_train=False\n",
    "            )\n",
    "        valid_loss += loss\n",
    "        valid_refs += gold\n",
    "        valid_hyps += pred\n",
    "    # 損失をサンプル数で割って正規化\n",
    "    train_loss /= len(train_dataloader.data) \n",
    "    valid_loss /= len(valid_dataloader.data) \n",
    "    # BLEUを計算\n",
    "    train_bleu = calc_bleu(train_refs, train_hyps)\n",
    "    valid_bleu = calc_bleu(valid_refs, valid_hyps)\n",
    "\n",
    "    # validationデータでBLEUが改善した場合にはモデルを保存\n",
    "    if valid_bleu > best_valid_bleu:\n",
    "        ckpt = model.state_dict()\n",
    "        torch.save(ckpt, ckpt_path)\n",
    "        best_valid_bleu = valid_bleu\n",
    "\n",
    "    elapsed_time = (time.time()-start) / 60\n",
    "    print('Epoch {} [{:.1f}min]: train_loss: {:5.2f}  train_bleu: {:2.2f}  valid_loss: {:5.2f}  valid_bleu: {:2.2f}'.format(\n",
    "            epoch, elapsed_time, train_loss, train_bleu, valid_loss, valid_bleu))\n",
    "    print('-'*80)"
   ]
  },
  {
   "cell_type": "markdown",
   "metadata": {
    "colab_type": "text",
    "id": "yVbfslwXp2ch"
   },
   "source": [
    "## 5. 評価"
   ]
  },
  {
   "cell_type": "code",
   "execution_count": 34,
   "metadata": {
    "colab": {},
    "colab_type": "code",
    "id": "kVsIBMSpp2ck"
   },
   "outputs": [],
   "source": [
    "def test(model, src, max_length=20):\n",
    "    # 学習済みモデルで系列を生成する\n",
    "    model.eval()\n",
    "    \n",
    "    src_seq, src_pos = src\n",
    "    batch_size = src_seq.size(0)\n",
    "    enc_output, enc_slf_attns = model.encoder(src_seq, src_pos)\n",
    "        \n",
    "    tgt_seq = torch.full([batch_size, 1], BOS, dtype=torch.long, device=device)\n",
    "    tgt_pos = torch.arange(1, dtype=torch.long, device=device)\n",
    "    tgt_pos = tgt_pos.unsqueeze(0).repeat(batch_size, 1)\n",
    "\n",
    "    # 時刻ごとに処理\n",
    "    for t in range(1, max_length+1):\n",
    "        dec_output, dec_slf_attns, dec_enc_attns = model.decoder(\n",
    "            tgt_seq, tgt_pos, src_seq, enc_output)\n",
    "        dec_output = model.tgt_word_proj(dec_output)\n",
    "        out = dec_output[:, -1, :].max(dim=-1)[1].unsqueeze(1)\n",
    "        # 自身の出力を次の時刻の入力にする\n",
    "        tgt_seq = torch.cat([tgt_seq, out], dim=-1)\n",
    "        tgt_pos = torch.arange(t+1, dtype=torch.long, device=device)\n",
    "        tgt_pos = tgt_pos.unsqueeze(0).repeat(batch_size, 1)\n",
    "\n",
    "    return tgt_seq[:, 1:], enc_slf_attns, dec_slf_attns, dec_enc_attns"
   ]
  },
  {
   "cell_type": "code",
   "execution_count": 35,
   "metadata": {
    "colab": {},
    "colab_type": "code",
    "id": "mvsDBT7Up2ct"
   },
   "outputs": [],
   "source": [
    "def ids_to_sentence(vocab, ids):\n",
    "    # IDのリストを単語のリストに変換する\n",
    "    return [vocab.id2word[_id] for _id in ids]\n",
    "\n",
    "def trim_eos(ids):\n",
    "    # IDのリストからEOS以降の単語を除外する\n",
    "    if EOS in ids:\n",
    "        return ids[:ids.index(EOS)]\n",
    "    else:\n",
    "        return ids"
   ]
  },
  {
   "cell_type": "code",
   "execution_count": 36,
   "metadata": {
    "colab": {},
    "colab_type": "code",
    "id": "Lf7c2Hglp2c1"
   },
   "outputs": [
    {
     "data": {
      "text/plain": [
       "<All keys matched successfully>"
      ]
     },
     "execution_count": 36,
     "metadata": {},
     "output_type": "execute_result"
    }
   ],
   "source": [
    "# 学習済みモデルの読み込み\n",
    "model = Transformer(**model_args).to(device)\n",
    "ckpt = torch.load(ckpt_path)\n",
    "model.load_state_dict(ckpt)"
   ]
  },
  {
   "cell_type": "code",
   "execution_count": 37,
   "metadata": {
    "colab": {},
    "colab_type": "code",
    "id": "Xd9DvONGp2c3"
   },
   "outputs": [],
   "source": [
    "# テストデータの読み込み\n",
    "test_X = load_data('./data/dev.en')\n",
    "test_Y = load_data('./data/dev.ja')\n",
    "test_X = [sentence_to_ids(vocab_X, sentence) for sentence in test_X]\n",
    "test_Y = [sentence_to_ids(vocab_Y, sentence) for sentence in test_Y]"
   ]
  },
  {
   "cell_type": "markdown",
   "metadata": {
    "colab_type": "text",
    "id": "xvFexG80p2c6"
   },
   "source": [
    "### 生成"
   ]
  },
  {
   "cell_type": "code",
   "execution_count": 38,
   "metadata": {
    "colab": {},
    "colab_type": "code",
    "id": "4CTH8DSyp2c8"
   },
   "outputs": [],
   "source": [
    "test_dataloader = DataLoader(\n",
    "    test_X, test_Y, 1,\n",
    "    shuffle=False\n",
    "    )"
   ]
  },
  {
   "cell_type": "code",
   "execution_count": 43,
   "metadata": {
    "colab": {
     "base_uri": "https://localhost:8080/",
     "height": 68
    },
    "colab_type": "code",
    "executionInfo": {
     "elapsed": 739292,
     "status": "ok",
     "timestamp": 1552709688480,
     "user": {
      "displayName": "鈴木航介",
      "photoUrl": "",
      "userId": "00468427838777565972"
     },
     "user_tz": -540
    },
    "id": "-pelUkHkp2c_",
    "outputId": "bca3a247-0f1a-4aea-f2f0-55e024b77495"
   },
   "outputs": [
    {
     "name": "stdout",
     "output_type": "stream",
     "text": [
      "src: i can 't swim at all .\n",
      "tgt: 私 は 少し も 泳げ な い 。\n",
      "out: 私 は 泳げ な い 。\n"
     ]
    }
   ],
   "source": [
    "src, tgt = next(test_dataloader)\n",
    "\n",
    "src_ids = src[0][0].cpu().numpy()\n",
    "tgt_ids = tgt[0][0].cpu().numpy()\n",
    "\n",
    "print('src: {}'.format(' '.join(ids_to_sentence(vocab_X, src_ids[1:-1]))))\n",
    "print('tgt: {}'.format(' '.join(ids_to_sentence(vocab_Y, tgt_ids[1:-1]))))\n",
    "\n",
    "preds, enc_slf_attns, dec_slf_attns, dec_enc_attns = test(model, src)\n",
    "pred_ids = preds[0].data.cpu().numpy().tolist()\n",
    "print('out: {}'.format(' '.join(ids_to_sentence(vocab_Y, trim_eos(pred_ids)))))"
   ]
  },
  {
   "cell_type": "markdown",
   "metadata": {
    "colab_type": "text",
    "id": "F175okKMp2dC"
   },
   "source": [
    "## BLEUの評価"
   ]
  },
  {
   "cell_type": "code",
   "execution_count": 44,
   "metadata": {
    "colab": {
     "base_uri": "https://localhost:8080/",
     "height": 34
    },
    "colab_type": "code",
    "executionInfo": {
     "elapsed": 739807,
     "status": "ok",
     "timestamp": 1552709690130,
     "user": {
      "displayName": "鈴木航介",
      "photoUrl": "",
      "userId": "00468427838777565972"
     },
     "user_tz": -540
    },
    "id": "Q1MNLkgfp2dD",
    "outputId": "94ccb045-5da1-4a75-e094-84be76bff8d1"
   },
   "outputs": [
    {
     "name": "stdout",
     "output_type": "stream",
     "text": [
      "25.82334017627445\n"
     ]
    }
   ],
   "source": [
    "# BLEUの評価\n",
    "test_dataloader = DataLoader(\n",
    "    test_X, test_Y, 128,\n",
    "    shuffle=False\n",
    "    )\n",
    "refs_list = []\n",
    "hyp_list = []\n",
    "\n",
    "for batch in test_dataloader:\n",
    "    batch_X, batch_Y = batch\n",
    "    preds, *_ = test(model, batch_X)\n",
    "    preds = preds.data.cpu().numpy().tolist()\n",
    "    refs = batch_Y[0].data.cpu().numpy()[:, 1:].tolist()\n",
    "    refs_list += refs\n",
    "    hyp_list += preds\n",
    "bleu = calc_bleu(refs_list, hyp_list)\n",
    "print(bleu)"
   ]
  },
  {
   "cell_type": "markdown",
   "metadata": {},
   "source": [
    "# TensolFlow\n",
    "### sys.path設定"
   ]
  },
  {
   "cell_type": "code",
   "execution_count": 4,
   "metadata": {},
   "outputs": [],
   "source": [
    "import sys\n",
    "sys.path.append('../DNN_code_colab_lesson_3_4')\n",
    "sys.path.append('../DNN_code_colab_lesson_3_4/lesson_2')"
   ]
  },
  {
   "cell_type": "markdown",
   "metadata": {},
   "source": [
    "### importと関数定義"
   ]
  },
  {
   "cell_type": "code",
   "execution_count": 22,
   "metadata": {},
   "outputs": [],
   "source": [
    "import numpy as np\n",
    "from common import functions\n",
    "import matplotlib.pyplot as plt\n",
    "\n",
    "def print_vec(text, vec):\n",
    "    print(\"*** \" + text + \" ***\")\n",
    "    print(vec)\n",
    "    print(\"shape: \" + str(vec.shape))\n",
    "    print(\"\")"
   ]
  },
  {
   "cell_type": "markdown",
   "metadata": {},
   "source": [
    "### constant"
   ]
  },
  {
   "cell_type": "code",
   "execution_count": 28,
   "metadata": {},
   "outputs": [
    {
     "name": "stdout",
     "output_type": "stream",
     "text": [
      "a: Tensor(\"Const_18:0\", shape=(), dtype=int32)\n",
      "b: Tensor(\"Const_19:0\", shape=(3, 2), dtype=float32)\n",
      "c: Tensor(\"Const_20:0\", shape=(2, 2), dtype=float32)\n",
      "a: 1\n",
      "b: [[2. 2.]\n",
      " [2. 2.]\n",
      " [2. 2.]]\n",
      "c: [[0. 1.]\n",
      " [2. 3.]]\n"
     ]
    }
   ],
   "source": [
    "import tensorflow as tf\n",
    "import numpy as np\n",
    "import tensorflow.compat.v1 as tf\n",
    "tf.disable_v2_behavior()\n",
    "\n",
    "# それぞれ定数を定義\n",
    "a = tf.constant(1)\n",
    "b = tf.constant(2, dtype=tf.float32, shape=[3,2])\n",
    "c = tf.constant(np.arange(4), dtype=tf.float32, shape=[2,2])\n",
    "\n",
    "print('a:', a)\n",
    "print('b:', b)\n",
    "print('c:', c)\n",
    "\n",
    "sess = tf.Session()\n",
    "\n",
    "print('a:', sess.run(a))\n",
    "print('b:', sess.run(b))\n",
    "print('c:', sess.run(c))"
   ]
  },
  {
   "cell_type": "markdown",
   "metadata": {},
   "source": [
    "### placeholder"
   ]
  },
  {
   "cell_type": "code",
   "execution_count": 18,
   "metadata": {},
   "outputs": [
    {
     "name": "stdout",
     "output_type": "stream",
     "text": [
      "x: Tensor(\"Placeholder_3:0\", shape=(?, 3), dtype=float32)\n",
      "X: [[0.46673264 0.5876328  0.32839077]\n",
      " [0.35954292 0.9089072  0.52700996]]\n",
      "x: [[0.46673265 0.5876328  0.32839078]]\n",
      "x: [[0.3595429  0.9089072  0.52700996]]\n"
     ]
    }
   ],
   "source": [
    "# プレースホルダーを定義\n",
    "x = tf.placeholder(dtype=tf.float32, shape=[None,3])\n",
    "\n",
    "print('x:', x)\n",
    "\n",
    "sess = tf.Session()\n",
    "\n",
    "X = np.random.rand(2,3)\n",
    "print('X:', X)\n",
    "\n",
    "# プレースホルダにX[0]を入力\n",
    "# shapeを(3,)から(1,3)にするためreshape\n",
    "print('x:', sess.run(x, feed_dict={x:X[0].reshape(1,-1)}))\n",
    "# プレースホルダにX[1]を入力\n",
    "print('x:', sess.run(x, feed_dict={x:X[1].reshape(1,-1)}))"
   ]
  },
  {
   "cell_type": "markdown",
   "metadata": {},
   "source": [
    "### variables"
   ]
  },
  {
   "cell_type": "code",
   "execution_count": 19,
   "metadata": {},
   "outputs": [
    {
     "name": "stdout",
     "output_type": "stream",
     "text": [
      "a: Tensor(\"Const_12:0\", shape=(), dtype=int32)\n",
      "x: <tf.Variable 'Variable:0' shape=() dtype=int32_ref>\n",
      "1\n",
      "10\n",
      "100\n"
     ]
    }
   ],
   "source": [
    "# 定数を定義\n",
    "a = tf.constant(10)\n",
    "print('a:', a)\n",
    "# 変数を定義\n",
    "x = tf.Variable(1)\n",
    "print('x:', x)\n",
    "\n",
    "calc_op = x * a\n",
    "\n",
    "# xの値を更新\n",
    "update_x = tf.assign(x, calc_op)\n",
    "\n",
    "sess = tf.Session()\n",
    "\n",
    "# 変数の初期化\n",
    "init = tf.global_variables_initializer()\n",
    "sess.run(init)\n",
    "\n",
    "print(sess.run(x))\n",
    "\n",
    "sess.run(update_x)\n",
    "print(sess.run(x))\n",
    "\n",
    "sess.run(update_x)\n",
    "print(sess.run(x))"
   ]
  },
  {
   "cell_type": "markdown",
   "metadata": {},
   "source": [
    "## 線形回帰"
   ]
  },
  {
   "cell_type": "code",
   "execution_count": 20,
   "metadata": {},
   "outputs": [
    {
     "name": "stdout",
     "output_type": "stream",
     "text": [
      "Generation: 10. 誤差 = 0.26279294\n",
      "Generation: 20. 誤差 = 0.19098297\n",
      "Generation: 30. 誤差 = 0.16775998\n",
      "Generation: 40. 誤差 = 0.14949013\n",
      "Generation: 50. 誤差 = 0.135023\n",
      "Generation: 60. 誤差 = 0.12356673\n",
      "Generation: 70. 誤差 = 0.11449477\n",
      "Generation: 80. 誤差 = 0.10731084\n",
      "Generation: 90. 誤差 = 0.101622015\n",
      "Generation: 100. 誤差 = 0.09711715\n",
      "Generation: 110. 誤差 = 0.09354984\n",
      "Generation: 120. 誤差 = 0.090724915\n",
      "Generation: 130. 誤差 = 0.08848793\n",
      "Generation: 140. 誤差 = 0.086716525\n",
      "Generation: 150. 誤差 = 0.08531376\n",
      "Generation: 160. 誤差 = 0.08420293\n",
      "Generation: 170. 誤差 = 0.08332331\n",
      "Generation: 180. 誤差 = 0.08262673\n",
      "Generation: 190. 誤差 = 0.08207515\n",
      "Generation: 200. 誤差 = 0.081638336\n",
      "Generation: 210. 誤差 = 0.08129245\n",
      "Generation: 220. 誤差 = 0.08101854\n",
      "Generation: 230. 誤差 = 0.08080165\n",
      "Generation: 240. 誤差 = 0.080629885\n",
      "Generation: 250. 誤差 = 0.08049386\n",
      "Generation: 260. 誤差 = 0.08038616\n",
      "Generation: 270. 誤差 = 0.080300875\n",
      "Generation: 280. 誤差 = 0.08023333\n",
      "Generation: 290. 誤差 = 0.08017984\n",
      "Generation: 300. 誤差 = 0.0801375\n",
      "[2.9000368]\n",
      "[2.0591848]\n"
     ]
    },
    {
     "data": {
      "image/png": "[encoded data removed]",
      "text/plain": [
       "<Figure size 432x288 with 1 Axes>"
      ]
     },
     "metadata": {
      "needs_background": "light"
     },
     "output_type": "display_data"
    }
   ],
   "source": [
    "import matplotlib.pyplot as plt\n",
    "\n",
    "iters_num = 300\n",
    "plot_interval = 10\n",
    "\n",
    "# データを生成\n",
    "n = 100\n",
    "x = np.random.rand(n)\n",
    "d = 3 * x + 2\n",
    "\n",
    "# ノイズを加える\n",
    "noise = 0.3\n",
    "d = d + noise * np.random.randn(n) \n",
    "\n",
    "# 入力値\n",
    "xt = tf.placeholder(tf.float32, shape=[None,1])\n",
    "dt = tf.placeholder(tf.float32, shape=[None,1])\n",
    "\n",
    "# 最適化の対象の変数を初期化\n",
    "W = tf.Variable(tf.zeros([1]))\n",
    "b = tf.Variable(tf.zeros([1]))\n",
    "\n",
    "y = W * xt + b\n",
    "\n",
    "# 誤差関数 平均2乗誤差\n",
    "loss = tf.reduce_mean(tf.square(y - dt))\n",
    "optimizer = tf.train.GradientDescentOptimizer(0.1)\n",
    "train = optimizer.minimize(loss)\n",
    "\n",
    "# 初期化\n",
    "init = tf.global_variables_initializer()\n",
    "sess = tf.Session()\n",
    "sess.run(init)\n",
    "\n",
    "# 作成したデータをトレーニングデータとして準備\n",
    "x_train = x.reshape(-1,1)\n",
    "d_train = d.reshape(-1,1)\n",
    "\n",
    "# トレーニング\n",
    "for i in range(iters_num):\n",
    "    sess.run(train, feed_dict={xt:x_train,dt:d_train})\n",
    "    if (i+1) % plot_interval == 0:\n",
    "        loss_val = sess.run(loss, feed_dict={xt:x_train,dt:d_train}) \n",
    "        W_val = sess.run(W)\n",
    "        b_val = sess.run(b)\n",
    "        print('Generation: ' + str(i+1) + '. 誤差 = ' + str(loss_val))\n",
    "\n",
    "print(W_val)\n",
    "print(b_val)\n",
    "\n",
    "#  予測関数\n",
    "def predict(x):\n",
    "    return W_val * x + b_val\n",
    "\n",
    "fig = plt.figure()\n",
    "subplot = fig.add_subplot(1, 1, 1)\n",
    "plt.scatter(x, d)\n",
    "linex = np.linspace(0, 1, 2)\n",
    "liney = predict(linex)\n",
    "subplot.plot(linex,liney)\n",
    "plt.show()"
   ]
  },
  {
   "cell_type": "markdown",
   "metadata": {},
   "source": [
    "## 非線形回帰"
   ]
  },
  {
   "cell_type": "code",
   "execution_count": 24,
   "metadata": {},
   "outputs": [
    {
     "name": "stdout",
     "output_type": "stream",
     "text": [
      "Generation: 100. 誤差 = 16.60688\n",
      "Generation: 200. 誤差 = 13.958488\n",
      "Generation: 300. 誤差 = 11.676143\n",
      "Generation: 400. 誤差 = 9.721949\n",
      "Generation: 500. 誤差 = 8.060122\n",
      "Generation: 600. 誤差 = 6.6570187\n",
      "Generation: 700. 誤差 = 5.481243\n",
      "Generation: 800. 誤差 = 4.503682\n",
      "Generation: 900. 誤差 = 3.6975613\n",
      "Generation: 1000. 誤差 = 3.0384576\n",
      "Generation: 1100. 誤差 = 2.50427\n",
      "Generation: 1200. 誤差 = 2.075173\n",
      "Generation: 1300. 誤差 = 1.733532\n",
      "Generation: 1400. 誤差 = 1.4637997\n",
      "Generation: 1500. 誤差 = 1.252401\n",
      "Generation: 1600. 誤差 = 1.0876197\n",
      "Generation: 1700. 誤差 = 0.95947295\n",
      "Generation: 1800. 誤差 = 0.8595894\n",
      "Generation: 1900. 誤差 = 0.781078\n",
      "Generation: 2000. 誤差 = 0.7183945\n",
      "Generation: 2100. 誤差 = 0.6671782\n",
      "Generation: 2200. 誤差 = 0.62410104\n",
      "Generation: 2300. 誤差 = 0.5866982\n",
      "Generation: 2400. 誤差 = 0.55320406\n",
      "Generation: 2500. 誤差 = 0.52240425\n",
      "Generation: 2600. 誤差 = 0.49349535\n",
      "Generation: 2700. 誤差 = 0.46597198\n",
      "Generation: 2800. 誤差 = 0.43953648\n",
      "Generation: 2900. 誤差 = 0.41402668\n",
      "Generation: 3000. 誤差 = 0.38936478\n",
      "Generation: 3100. 誤差 = 0.36552268\n",
      "Generation: 3200. 誤差 = 0.3424986\n",
      "Generation: 3300. 誤差 = 0.32030177\n",
      "Generation: 3400. 誤差 = 0.29894534\n",
      "Generation: 3500. 誤差 = 0.27844054\n",
      "Generation: 3600. 誤差 = 0.2587948\n",
      "Generation: 3700. 誤差 = 0.24001122\n",
      "Generation: 3800. 誤差 = 0.22208829\n",
      "Generation: 3900. 誤差 = 0.20502043\n",
      "Generation: 4000. 誤差 = 0.1887983\n",
      "Generation: 4100. 誤差 = 0.17340992\n",
      "Generation: 4200. 誤差 = 0.15884186\n",
      "Generation: 4300. 誤差 = 0.14507788\n",
      "Generation: 4400. 誤差 = 0.13210177\n",
      "Generation: 4500. 誤差 = 0.11989655\n",
      "Generation: 4600. 誤差 = 0.108445026\n",
      "Generation: 4700. 誤差 = 0.09772974\n",
      "Generation: 4800. 誤差 = 0.087733604\n",
      "Generation: 4900. 誤差 = 0.07843933\n",
      "Generation: 5000. 誤差 = 0.06982938\n",
      "Generation: 5100. 誤差 = 0.061885692\n",
      "Generation: 5200. 誤差 = 0.054589164\n",
      "Generation: 5300. 誤差 = 0.04791994\n",
      "Generation: 5400. 誤差 = 0.04185648\n",
      "Generation: 5500. 誤差 = 0.036375523\n",
      "Generation: 5600. 誤差 = 0.03145186\n",
      "Generation: 5700. 誤差 = 0.027058395\n",
      "Generation: 5800. 誤差 = 0.023166258\n",
      "Generation: 5900. 誤差 = 0.019744553\n",
      "Generation: 6000. 誤差 = 0.016760845\n",
      "Generation: 6100. 誤差 = 0.014181904\n",
      "Generation: 6200. 誤差 = 0.011973184\n",
      "Generation: 6300. 誤差 = 0.01010004\n",
      "Generation: 6400. 誤差 = 0.008527906\n",
      "Generation: 6500. 誤差 = 0.0072228694\n",
      "Generation: 6600. 誤差 = 0.006152146\n",
      "Generation: 6700. 誤差 = 0.005284342\n",
      "Generation: 6800. 誤差 = 0.0045901514\n",
      "Generation: 6900. 誤差 = 0.004042402\n",
      "Generation: 7000. 誤差 = 0.0036164897\n",
      "Generation: 7100. 誤差 = 0.0032903748\n",
      "Generation: 7200. 誤差 = 0.003044621\n",
      "Generation: 7300. 誤差 = 0.0028626283\n",
      "Generation: 7400. 誤差 = 0.0027302485\n",
      "Generation: 7500. 誤差 = 0.0026357844\n",
      "Generation: 7600. 誤差 = 0.002569722\n",
      "Generation: 7700. 誤差 = 0.0025244919\n",
      "Generation: 7800. 誤差 = 0.002494205\n",
      "Generation: 7900. 誤差 = 0.002474404\n",
      "Generation: 8000. 誤差 = 0.0024617678\n",
      "Generation: 8100. 誤差 = 0.0024539193\n",
      "Generation: 8200. 誤差 = 0.0024491795\n",
      "Generation: 8300. 誤差 = 0.0024463928\n",
      "Generation: 8400. 誤差 = 0.0024448046\n",
      "Generation: 8500. 誤差 = 0.0024439385\n",
      "Generation: 8600. 誤差 = 0.0024434726\n",
      "Generation: 8700. 誤差 = 0.002443229\n",
      "Generation: 8800. 誤差 = 0.0024431122\n",
      "Generation: 8900. 誤差 = 0.002443054\n",
      "Generation: 9000. 誤差 = 0.0024430272\n",
      "Generation: 9100. 誤差 = 0.0024430212\n",
      "Generation: 9200. 誤差 = 0.002443011\n",
      "Generation: 9300. 誤差 = 0.0024430144\n",
      "Generation: 9400. 誤差 = 0.0024430114\n",
      "Generation: 9500. 誤差 = 0.002443009\n",
      "Generation: 9600. 誤差 = 0.002443015\n",
      "Generation: 9700. 誤差 = 0.0024430132\n",
      "Generation: 9800. 誤差 = 0.0024430086\n",
      "Generation: 9900. 誤差 = 0.00244301\n",
      "Generation: 10000. 誤差 = 0.0024430088\n",
      "[[-0.40430036]\n",
      " [ 1.6073648 ]\n",
      " [-2.785755  ]\n",
      " [ 0.98934716]]\n"
     ]
    },
    {
     "data": {
      "image/png": "[encoded data removed]",
      "text/plain": [
       "<Figure size 432x288 with 1 Axes>"
      ]
     },
     "metadata": {
      "needs_background": "light"
     },
     "output_type": "display_data"
    }
   ],
   "source": [
    "import matplotlib.pyplot as plt\n",
    "\n",
    "iters_num = 10000\n",
    "plot_interval = 100\n",
    "\n",
    "# データを生成\n",
    "n=100\n",
    "x = np.random.rand(n).astype(np.float32) * 4 - 2\n",
    "d =  - 0.4 * x ** 3 + 1.6 * x ** 2 - 2.8 * x + 1\n",
    "\n",
    "#  ノイズを加える\n",
    "noise = 0.05\n",
    "d = d + noise * np.random.randn(n) \n",
    "\n",
    "# モデル\n",
    "# bを使っていないことに注意.\n",
    "xt = tf.placeholder(tf.float32, [None, 4])\n",
    "dt = tf.placeholder(tf.float32, [None, 1])\n",
    "W = tf.Variable(tf.random_normal([4, 1], stddev=0.01))\n",
    "y = tf.matmul(xt,W)\n",
    "\n",
    "# 誤差関数 平均２乗誤差\n",
    "loss = tf.reduce_mean(tf.square(y - dt))\n",
    "optimizer = tf.train.AdamOptimizer(0.001)\n",
    "train = optimizer.minimize(loss)\n",
    "\n",
    "# 初期化\n",
    "init = tf.global_variables_initializer()\n",
    "sess = tf.Session()\n",
    "sess.run(init)\n",
    "\n",
    "# 作成したデータをトレーニングデータとして準備\n",
    "d_train = d.reshape(-1,1)\n",
    "x_train = np.zeros([n, 4])\n",
    "for i in range(n):\n",
    "    for j in range(4):\n",
    "        x_train[i, j] = x[i]**j\n",
    "\n",
    "#  トレーニング\n",
    "for i in range(iters_num):\n",
    "    if (i+1) % plot_interval == 0:\n",
    "        loss_val = sess.run(loss, feed_dict={xt:x_train, dt:d_train}) \n",
    "        W_val = sess.run(W)\n",
    "        print('Generation: ' + str(i+1) + '. 誤差 = ' + str(loss_val))\n",
    "    sess.run(train, feed_dict={xt:x_train,dt:d_train})\n",
    "\n",
    "print(W_val[::-1])\n",
    "    \n",
    "# 予測関数\n",
    "def predict(x):\n",
    "    result = 0.\n",
    "    for i in range(0,4):\n",
    "        result += W_val[i,0] * x ** i\n",
    "    return result\n",
    "\n",
    "fig = plt.figure()\n",
    "subplot = fig.add_subplot(1,1,1)\n",
    "plt.scatter(x ,d)\n",
    "linex = np.linspace(-2,2,100)\n",
    "liney = predict(linex)\n",
    "subplot.plot(linex,liney)\n",
    "plt.show()"
   ]
  },
  {
   "cell_type": "markdown",
   "metadata": {},
   "source": [
    "## mnist"
   ]
  },
  {
   "cell_type": "code",
   "execution_count": 40,
   "metadata": {},
   "outputs": [
    {
     "name": "stdout",
     "output_type": "stream",
     "text": [
      "Model: \"sequential_1\"\n",
      "_________________________________________________________________\n",
      "Layer (type)                 Output Shape              Param #   \n",
      "=================================================================\n",
      "dense (Dense)                (None, 512)               401920    \n",
      "_________________________________________________________________\n",
      "dropout (Dropout)            (None, 512)               0         \n",
      "_________________________________________________________________\n",
      "dense_1 (Dense)              (None, 512)               262656    \n",
      "_________________________________________________________________\n",
      "dropout_1 (Dropout)          (None, 512)               0         \n",
      "_________________________________________________________________\n",
      "dense_2 (Dense)              (None, 10)                5130      \n",
      "=================================================================\n",
      "Total params: 669,706\n",
      "Trainable params: 669,706\n",
      "Non-trainable params: 0\n",
      "_________________________________________________________________\n",
      "Train on 60000 samples, validate on 10000 samples\n",
      "Epoch 1/20\n",
      "60000/60000 [==============================] - 3s 49us/sample - loss: 0.2566 - acc: 0.9225 - val_loss: 0.1130 - val_acc: 0.9667\n",
      "Epoch 2/20\n",
      "60000/60000 [==============================] - 3s 48us/sample - loss: 0.1030 - acc: 0.9687 - val_loss: 0.0789 - val_acc: 0.9747\n",
      "Epoch 3/20\n",
      "60000/60000 [==============================] - 3s 48us/sample - loss: 0.0708 - acc: 0.9775 - val_loss: 0.0742 - val_acc: 0.9757\n",
      "Epoch 4/20\n",
      "60000/60000 [==============================] - 3s 49us/sample - loss: 0.0563 - acc: 0.9819 - val_loss: 0.0693 - val_acc: 0.9793\n",
      "Epoch 5/20\n",
      "60000/60000 [==============================] - 3s 48us/sample - loss: 0.0454 - acc: 0.9858 - val_loss: 0.0624 - val_acc: 0.9806\n",
      "Epoch 6/20\n",
      "60000/60000 [==============================] - 3s 50us/sample - loss: 0.0384 - acc: 0.9877 - val_loss: 0.0621 - val_acc: 0.9809\n",
      "Epoch 7/20\n",
      "60000/60000 [==============================] - 3s 50us/sample - loss: 0.0362 - acc: 0.9875 - val_loss: 0.0650 - val_acc: 0.9801\n",
      "Epoch 8/20\n",
      "60000/60000 [==============================] - 3s 48us/sample - loss: 0.0317 - acc: 0.9893 - val_loss: 0.0591 - val_acc: 0.9830\n",
      "Epoch 9/20\n",
      "60000/60000 [==============================] - 3s 50us/sample - loss: 0.0258 - acc: 0.9916 - val_loss: 0.0669 - val_acc: 0.9820\n",
      "Epoch 10/20\n",
      "60000/60000 [==============================] - 3s 51us/sample - loss: 0.0249 - acc: 0.9917 - val_loss: 0.0684 - val_acc: 0.9825\n",
      "Epoch 11/20\n",
      "60000/60000 [==============================] - 3s 48us/sample - loss: 0.0230 - acc: 0.9926 - val_loss: 0.0662 - val_acc: 0.9840\n",
      "Epoch 12/20\n",
      "60000/60000 [==============================] - 3s 49us/sample - loss: 0.0249 - acc: 0.9915 - val_loss: 0.0662 - val_acc: 0.9837\n",
      "Epoch 13/20\n",
      "60000/60000 [==============================] - 3s 52us/sample - loss: 0.0201 - acc: 0.9936 - val_loss: 0.0820 - val_acc: 0.9804\n",
      "Epoch 14/20\n",
      "60000/60000 [==============================] - 3s 49us/sample - loss: 0.0194 - acc: 0.9935 - val_loss: 0.0717 - val_acc: 0.9821\n",
      "Epoch 15/20\n",
      "60000/60000 [==============================] - 3s 48us/sample - loss: 0.0209 - acc: 0.9933 - val_loss: 0.0693 - val_acc: 0.9829\n",
      "Epoch 16/20\n",
      "60000/60000 [==============================] - 3s 48us/sample - loss: 0.0173 - acc: 0.9941 - val_loss: 0.0766 - val_acc: 0.9847\n",
      "Epoch 17/20\n",
      "60000/60000 [==============================] - 3s 49us/sample - loss: 0.0172 - acc: 0.9945 - val_loss: 0.0781 - val_acc: 0.9826\n",
      "Epoch 18/20\n",
      "60000/60000 [==============================] - 3s 51us/sample - loss: 0.0142 - acc: 0.9952 - val_loss: 0.0776 - val_acc: 0.9830\n",
      "Epoch 19/20\n",
      "60000/60000 [==============================] - 3s 49us/sample - loss: 0.0165 - acc: 0.9948 - val_loss: 0.0740 - val_acc: 0.9843\n",
      "Epoch 20/20\n",
      "60000/60000 [==============================] - 3s 51us/sample - loss: 0.0166 - acc: 0.9947 - val_loss: 0.0786 - val_acc: 0.9838\n",
      "Test loss: 0.07860666452110308\n",
      "Test accuracy: 0.9838\n"
     ]
    },
    {
     "data": {
      "image/png": "[encoded data removed]",
      "text/plain": [
       "<Figure size 432x288 with 1 Axes>"
      ]
     },
     "metadata": {
      "needs_background": "light"
     },
     "output_type": "display_data"
    }
   ],
   "source": [
    "import tensorflow.compat.v1 as tf\n",
    "tf.disable_v2_behavior()\n",
    "\n",
    "# logging levelを変更\n",
    "tf.logging.set_verbosity(tf.logging.ERROR)\n",
    "\n",
    "# 必要なライブラリのインポート\n",
    "import keras\n",
    "import matplotlib.pyplot as plt\n",
    "from data.mnist import load_mnist\n",
    "\n",
    "(x_train, d_train), (x_test, d_test) = load_mnist(normalize=True, one_hot_label=False)\n",
    "\n",
    "# 必要なライブラリのインポート、最適化手法はAdamを使う\n",
    "from keras.models import Sequential\n",
    "from keras.layers import Dense, Dropout\n",
    "from keras.optimizers import Adam\n",
    "\n",
    "# モデル作成\n",
    "model = Sequential()\n",
    "model.add(Dense(512, activation='relu', input_shape=(784,)))\n",
    "model.add(Dropout(0.2))\n",
    "model.add(Dense(512, activation='relu'))\n",
    "model.add(Dropout(0.2))\n",
    "model.add(Dense(10, activation='softmax'))\n",
    "model.summary()\n",
    "\n",
    "# バッチサイズ、エポック数\n",
    "batch_size = 128\n",
    "epochs = 20\n",
    "\n",
    "model.compile(loss='sparse_categorical_crossentropy', \n",
    "              optimizer=Adam(lr=0.001, beta_1=0.9, beta_2=0.999, epsilon=None, decay=0.0, amsgrad=False), \n",
    "              metrics=['accuracy'])\n",
    "\n",
    "history = model.fit(x_train, d_train, batch_size=batch_size, epochs=epochs, verbose=1, validation_data=(x_test, d_test))\n",
    "loss = model.evaluate(x_test, d_test, verbose=0)\n",
    "print('Test loss:', loss[0])\n",
    "print('Test accuracy:', loss[1])\n",
    "#Accuracy\n",
    "plt.plot(history.history['acc'])\n",
    "plt.plot(history.history['val_acc'])\n",
    "plt.title('model accuracy')\n",
    "plt.ylabel('accuracy')\n",
    "plt.xlabel('epoch')\n",
    "plt.legend(['train', 'test'], loc='upper left')\n",
    "# plt.ylim(0, 1.0)\n",
    "plt.show()"
   ]
  },
  {
   "cell_type": "markdown",
   "metadata": {},
   "source": [
    "## CNN分類 (mnist)"
   ]
  },
  {
   "cell_type": "code",
   "execution_count": 42,
   "metadata": {},
   "outputs": [
    {
     "name": "stdout",
     "output_type": "stream",
     "text": [
      "Model: \"sequential_2\"\n",
      "_________________________________________________________________\n",
      "Layer (type)                 Output Shape              Param #   \n",
      "=================================================================\n",
      "conv2d (Conv2D)              (None, 26, 26, 32)        320       \n",
      "_________________________________________________________________\n",
      "conv2d_1 (Conv2D)            (None, 24, 24, 64)        18496     \n",
      "_________________________________________________________________\n",
      "max_pooling2d (MaxPooling2D) (None, 12, 12, 64)        0         \n",
      "_________________________________________________________________\n",
      "dropout_2 (Dropout)          (None, 12, 12, 64)        0         \n",
      "_________________________________________________________________\n",
      "flatten (Flatten)            (None, 9216)              0         \n",
      "_________________________________________________________________\n",
      "dense_3 (Dense)              (None, 128)               1179776   \n",
      "_________________________________________________________________\n",
      "dropout_3 (Dropout)          (None, 128)               0         \n",
      "_________________________________________________________________\n",
      "dense_4 (Dense)              (None, 10)                1290      \n",
      "=================================================================\n",
      "Total params: 1,199,882\n",
      "Trainable params: 1,199,882\n",
      "Non-trainable params: 0\n",
      "_________________________________________________________________\n",
      "Train on 60000 samples, validate on 10000 samples\n",
      "Epoch 1/20\n",
      "60000/60000 [==============================] - 34s 566us/sample - loss: 0.2477 - acc: 0.9239 - val_loss: 0.0529 - val_acc: 0.9827\n",
      "Epoch 2/20\n",
      "60000/60000 [==============================] - 40s 673us/sample - loss: 0.0879 - acc: 0.9735 - val_loss: 0.0362 - val_acc: 0.9874\n",
      "Epoch 3/20\n",
      "60000/60000 [==============================] - 40s 659us/sample - loss: 0.0635 - acc: 0.9804 - val_loss: 0.0331 - val_acc: 0.9893\n",
      "Epoch 4/20\n",
      "60000/60000 [==============================] - 39s 645us/sample - loss: 0.0517 - acc: 0.9840 - val_loss: 0.0302 - val_acc: 0.9901\n",
      "Epoch 5/20\n",
      "60000/60000 [==============================] - 38s 629us/sample - loss: 0.0435 - acc: 0.9861 - val_loss: 0.0301 - val_acc: 0.9901\n",
      "Epoch 6/20\n",
      "60000/60000 [==============================] - 37s 621us/sample - loss: 0.0379 - acc: 0.9878 - val_loss: 0.0292 - val_acc: 0.9910\n",
      "Epoch 7/20\n",
      "60000/60000 [==============================] - 38s 625us/sample - loss: 0.0360 - acc: 0.9888 - val_loss: 0.0316 - val_acc: 0.9908\n",
      "Epoch 8/20\n",
      "60000/60000 [==============================] - 40s 659us/sample - loss: 0.0294 - acc: 0.9902 - val_loss: 0.0283 - val_acc: 0.9917\n",
      "Epoch 9/20\n",
      "60000/60000 [==============================] - 37s 617us/sample - loss: 0.0296 - acc: 0.9904 - val_loss: 0.0290 - val_acc: 0.9912\n",
      "Epoch 10/20\n",
      "60000/60000 [==============================] - 39s 651us/sample - loss: 0.0269 - acc: 0.9913 - val_loss: 0.0251 - val_acc: 0.9925\n",
      "Epoch 11/20\n",
      "60000/60000 [==============================] - 39s 649us/sample - loss: 0.0237 - acc: 0.9920 - val_loss: 0.0315 - val_acc: 0.9913\n",
      "Epoch 12/20\n",
      "60000/60000 [==============================] - 38s 626us/sample - loss: 0.0217 - acc: 0.9927 - val_loss: 0.0297 - val_acc: 0.9919\n",
      "Epoch 13/20\n",
      "60000/60000 [==============================] - 39s 655us/sample - loss: 0.0221 - acc: 0.9929 - val_loss: 0.0349 - val_acc: 0.9912\n",
      "Epoch 14/20\n",
      "60000/60000 [==============================] - 39s 656us/sample - loss: 0.0194 - acc: 0.9936 - val_loss: 0.0278 - val_acc: 0.9931\n",
      "Epoch 15/20\n",
      "60000/60000 [==============================] - 38s 639us/sample - loss: 0.0186 - acc: 0.9935 - val_loss: 0.0327 - val_acc: 0.9913\n",
      "Epoch 16/20\n",
      "60000/60000 [==============================] - 39s 652us/sample - loss: 0.0180 - acc: 0.9938 - val_loss: 0.0279 - val_acc: 0.9930\n",
      "Epoch 17/20\n",
      "60000/60000 [==============================] - 38s 634us/sample - loss: 0.0160 - acc: 0.9942 - val_loss: 0.0297 - val_acc: 0.9924\n",
      "Epoch 18/20\n",
      "60000/60000 [==============================] - 39s 650us/sample - loss: 0.0147 - acc: 0.9953 - val_loss: 0.0302 - val_acc: 0.9923\n",
      "Epoch 19/20\n",
      "60000/60000 [==============================] - 38s 637us/sample - loss: 0.0147 - acc: 0.9949 - val_loss: 0.0323 - val_acc: 0.9919\n",
      "Epoch 20/20\n",
      "60000/60000 [==============================] - 38s 641us/sample - loss: 0.0136 - acc: 0.9957 - val_loss: 0.0342 - val_acc: 0.9930\n"
     ]
    },
    {
     "data": {
      "image/png": "[encoded data removed]",
      "text/plain": [
       "<Figure size 432x288 with 1 Axes>"
      ]
     },
     "metadata": {
      "needs_background": "light"
     },
     "output_type": "display_data"
    }
   ],
   "source": [
    "import tensorflow.compat.v1 as tf\n",
    "tf.disable_v2_behavior()\n",
    "\n",
    "# logging levelを変更\n",
    "tf.logging.set_verbosity(tf.logging.ERROR)\n",
    "\n",
    "# 必要なライブラリのインポート\n",
    "import keras\n",
    "import matplotlib.pyplot as plt\n",
    "from data.mnist import load_mnist\n",
    "\n",
    "(x_train, d_train), (x_test, d_test) = load_mnist(normalize=True, one_hot_label=True)\n",
    "\n",
    "\n",
    "# 行列として入力するための加工\n",
    "batch_size = 128\n",
    "num_classes = 10\n",
    "epochs = 20\n",
    "\n",
    "img_rows, img_cols = 28, 28\n",
    "\n",
    "x_train = x_train.reshape(x_train.shape[0], img_rows, img_cols, 1)\n",
    "x_test = x_test.reshape(x_test.shape[0], img_rows, img_cols, 1)\n",
    "input_shape = (img_rows, img_cols, 1)\n",
    "\n",
    "\n",
    "# 必要なライブラリのインポート、最適化手法はAdamを使う\n",
    "from keras.models import Sequential\n",
    "from keras.layers import Dense, Dropout, Flatten\n",
    "from keras.layers import Conv2D, MaxPooling2D\n",
    "from keras.optimizers import Adam\n",
    "\n",
    "model = Sequential()\n",
    "model.add(Conv2D(32, kernel_size=(3, 3),\n",
    "                 activation='relu',\n",
    "                 input_shape=input_shape))\n",
    "model.add(Conv2D(64, (3, 3), activation='relu'))\n",
    "model.add(MaxPooling2D(pool_size=(2, 2)))\n",
    "model.add(Dropout(0.25))\n",
    "model.add(Flatten())\n",
    "model.add(Dense(128, activation='relu'))\n",
    "model.add(Dropout(0.5))\n",
    "model.add(Dense(num_classes, activation='softmax'))\n",
    "model.summary()\n",
    "\n",
    "# バッチサイズ、エポック数\n",
    "batch_size = 128\n",
    "epochs = 20\n",
    "\n",
    "model.compile(loss='categorical_crossentropy', optimizer=Adam(), metrics=['accuracy'])\n",
    "history = model.fit(x_train, d_train, batch_size=batch_size, epochs=epochs, verbose=1, validation_data=(x_test, d_test))\n",
    "\n",
    "#Accuracy\n",
    "plt.plot(history.history['acc'])\n",
    "plt.plot(history.history['val_acc'])\n",
    "plt.title('model accuracy')\n",
    "plt.ylabel('accuracy')\n",
    "plt.xlabel('epoch')\n",
    "plt.legend(['train', 'test'], loc='upper left')\n",
    "# plt.ylim(0, 1.0)\n",
    "plt.show()"
   ]
  },
  {
   "cell_type": "markdown",
   "metadata": {},
   "source": [
    "## RNN"
   ]
  },
  {
   "cell_type": "code",
   "execution_count": 44,
   "metadata": {},
   "outputs": [
    {
     "name": "stdout",
     "output_type": "stream",
     "text": [
      "Model: \"sequential_3\"\n",
      "_________________________________________________________________\n",
      "Layer (type)                 Output Shape              Param #   \n",
      "=================================================================\n",
      "simple_rnn (SimpleRNN)       (None, 8, 16)             304       \n",
      "_________________________________________________________________\n",
      "dense_5 (Dense)              (None, 8, 1)              17        \n",
      "=================================================================\n",
      "Total params: 321\n",
      "Trainable params: 321\n",
      "Non-trainable params: 0\n",
      "_________________________________________________________________\n",
      "Train on 10000 samples\n",
      "Epoch 1/5\n",
      "10000/10000 [==============================] - 13s 1ms/sample - loss: 0.0717 - acc: 0.9357\n",
      "Epoch 2/5\n",
      "10000/10000 [==============================] - 12s 1ms/sample - loss: 0.0033 - acc: 1.0000\n",
      "Epoch 3/5\n",
      "10000/10000 [==============================] - 12s 1ms/sample - loss: 0.0010 - acc: 1.0000\n",
      "Epoch 4/5\n",
      "10000/10000 [==============================] - 12s 1ms/sample - loss: 5.6873e-04 - acc: 1.0000\n",
      "Epoch 5/5\n",
      "10000/10000 [==============================] - 12s 1ms/sample - loss: 3.8712e-04 - acc: 1.0000\n",
      "Test loss: 0.00032943747077458666\n",
      "Test accuracy: 1.0\n"
     ]
    }
   ],
   "source": [
    "import tensorflow.compat.v1 as tf\n",
    "tf.disable_v2_behavior()\n",
    "\n",
    "# logging levelを変更\n",
    "tf.logging.set_verbosity(tf.logging.ERROR)\n",
    "\n",
    "import numpy as np\n",
    "import matplotlib.pyplot as plt\n",
    "\n",
    "import keras\n",
    "from keras.models import Sequential\n",
    "from keras.layers.core import Dense, Dropout,Activation\n",
    "from keras.layers.wrappers import TimeDistributed\n",
    "from keras.optimizers import SGD\n",
    "from keras.layers.recurrent import SimpleRNN, LSTM, GRU\n",
    "\n",
    "\n",
    "# データを用意\n",
    "# 2進数の桁数\n",
    "binary_dim = 8\n",
    "# 最大値 + 1\n",
    "largest_number = pow(2, binary_dim)\n",
    "\n",
    "# largest_numberまで2進数を用意\n",
    "binary = np.unpackbits(np.array([range(largest_number)], dtype=np.uint8).T,axis=1)[:, ::-1]\n",
    "\n",
    "\n",
    "# A, B初期化 (a + b = d)\n",
    "a_int = np.random.randint(largest_number/2, size=20000)\n",
    "a_bin = binary[a_int] # binary encoding\n",
    "b_int = np.random.randint(largest_number/2, size=20000)\n",
    "b_bin = binary[b_int] # binary encoding\n",
    "\n",
    "x_int = []\n",
    "x_bin = []\n",
    "for i in range(10000):\n",
    "    x_int.append(np.array([a_int[i], b_int[i]]).T)\n",
    "    x_bin.append(np.array([a_bin[i], b_bin[i]]).T)\n",
    "\n",
    "x_int_test = []\n",
    "x_bin_test = []\n",
    "for i in range(10001, 20000):\n",
    "    x_int_test.append(np.array([a_int[i], b_int[i]]).T)\n",
    "    x_bin_test.append(np.array([a_bin[i], b_bin[i]]).T)\n",
    "\n",
    "x_int = np.array(x_int)\n",
    "x_bin = np.array(x_bin)\n",
    "x_int_test = np.array(x_int_test)\n",
    "x_bin_test = np.array(x_bin_test)\n",
    "\n",
    "\n",
    "# 正解データ\n",
    "d_int = a_int + b_int\n",
    "d_bin = binary[d_int][0:10000]\n",
    "d_bin_test = binary[d_int][10001:20000]\n",
    "\n",
    "model = Sequential()\n",
    "\n",
    "model.add(SimpleRNN(units=16,\n",
    "               return_sequences=True,\n",
    "               input_shape=[8, 2],\n",
    "               go_backwards=False,\n",
    "               activation='relu',\n",
    "               # dropout=0.5,\n",
    "               # recurrent_dropout=0.3,\n",
    "               # unroll = True,\n",
    "            ))\n",
    "# 出力層\n",
    "model.add(Dense(1, activation='sigmoid', input_shape=(-1,2)))\n",
    "model.summary()\n",
    "model.compile(loss='mean_squared_error', optimizer=SGD(lr=0.1), metrics=['accuracy'])\n",
    "# model.compile(loss='mse', optimizer='adam', metrics=['accuracy'])\n",
    "\n",
    "history = model.fit(x_bin, d_bin.reshape(-1, 8, 1), epochs=5, batch_size=2)\n",
    "\n",
    "# テスト結果出力\n",
    "score = model.evaluate(x_bin_test, d_bin_test.reshape(-1,8,1), verbose=0)\n",
    "print('Test loss:', score[0])\n",
    "print('Test accuracy:', score[1])"
   ]
  }
 ],
 "metadata": {
  "kernelspec": {
   "display_name": "Python 3",
   "language": "python",
   "name": "python3"
  },
  "language_info": {
   "codemirror_mode": {
    "name": "ipython",
    "version": 3
   },
   "file_extension": ".py",
   "mimetype": "text/x-python",
   "name": "python",
   "nbconvert_exporter": "python",
   "pygments_lexer": "ipython3",
   "version": "3.8.3"
  }
 },
 "nbformat": 4,
 "nbformat_minor": 4
}

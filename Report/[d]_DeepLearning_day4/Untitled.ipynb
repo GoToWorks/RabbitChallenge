{
 "cells": [
  {
   "cell_type": "code",
   "execution_count": 4,
   "metadata": {},
   "outputs": [
    {
     "name": "stdout",
     "output_type": "stream",
     "text": [
      "[[ 0.70710678 -0.70710678]\n",
      " [ 0.70710678  0.70710678]]\n",
      "[[ 0.70710678  0.70710678]\n",
      " [-0.70710678  0.70710678]]\n",
      "[[7.0000000e+00 8.8817842e-16]\n",
      " [8.8817842e-16 3.0000000e+00]]\n"
     ]
    }
   ],
   "source": [
    "import numpy as np\n",
    " \n",
    "# 例題の行列\n",
    "A = np.array([[5, 2],\n",
    "              [2, 5]])\n",
    " \n",
    "# 固有値と固有ベクトルを求める。\n",
    "eig, P = np.linalg.eig(A)\n",
    "# print(eig)\n",
    "print(P)\n",
    "print(np.linalg.inv(P))\n",
    " \n",
    "# 対角化\n",
    "D = np.dot(np.dot(np.linalg.inv(P), A), P)\n",
    "print(D)"
   ]
  },
  {
   "cell_type": "code",
   "execution_count": null,
   "metadata": {},
   "outputs": [],
   "source": []
  }
 ],
 "metadata": {
  "kernelspec": {
   "display_name": "Python 3",
   "language": "python",
   "name": "python3"
  },
  "language_info": {
   "codemirror_mode": {
    "name": "ipython",
    "version": 3
   },
   "file_extension": ".py",
   "mimetype": "text/x-python",
   "name": "python",
   "nbconvert_exporter": "python",
   "pygments_lexer": "ipython3",
   "version": "3.8.3"
  }
 },
 "nbformat": 4,
 "nbformat_minor": 4
}
